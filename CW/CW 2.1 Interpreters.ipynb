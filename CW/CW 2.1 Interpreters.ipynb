{
 "cells": [
  {
   "cell_type": "markdown",
   "id": "64a4419e",
   "metadata": {},
   "source": [
    "# CW2.1:  Interpreter for FUNC"
   ]
  },
  {
   "cell_type": "markdown",
   "id": "ef45ea05",
   "metadata": {},
   "source": [
    "This week's assignment consists of two parts: \n",
    "- Writing an interpreter for the parts not requiring functions (*6 points*)\n",
    "- Writing an interpreter for the parts requiring functions  (*4 points*)"
   ]
  },
  {
   "cell_type": "code",
   "execution_count": null,
   "id": "8a29ff26",
   "metadata": {
    "vscode": {
     "languageId": "ocaml"
    }
   },
   "outputs": [],
   "source": [
    "type exp = Numb of int | Id of string | App of string * exp list\n",
    "\n",
    "type bop = Less | LessEq | Eq | NEq \n",
    "type cond = C of bop * exp * exp\n",
    "\n",
    "type statement =\n",
    "  Assign of string * exp\n",
    "| Read of string\n",
    "| Write of exp \n",
    "| If of cond * statement list\n",
    "| Ite of cond * statement list * statement list\n",
    "| While of cond * statement list\n",
    "\n",
    "type mmethod = M of string (* name of function *)\n",
    "                * string list (* arguments *)\n",
    "                * string list (* declarations *) \n",
    "                * statement list (* function body *)\n",
    "                * string option (* possible return value *)\n",
    "\n",
    "type program = P of mmethod list"
   ]
  },
  {
   "cell_type": "markdown",
   "id": "57b202ac",
   "metadata": {},
   "source": [
    "As in the lectures, you can use environments to look up variables. \n",
    "As there are no block statements, a simple dictionary suffices."
   ]
  },
  {
   "cell_type": "code",
   "execution_count": null,
   "id": "62d01099",
   "metadata": {
    "vscode": {
     "languageId": "ocaml"
    }
   },
   "outputs": [],
   "source": [
    "exception RuntimeError of string\n",
    "\n",
    "(* This will define maps with strings as key *)\n",
    "module Env = Map.Make(String)\n",
    "\n",
    "(* Env.empty denotes the empty environment. \n",
    "We can add elements to an environment via Env.add.\n",
    "This is the environment which only binds “a” to 3. *)\n",
    "let example_env = Env.add \"a\" 3 Env.empty;;\n",
    "\n",
    "(* We can look up elements in an environment via Env.find.\n",
    "Env.find throws an exception if the key does not exist.*)\n",
    "Env.find \"a\" example_env;;\n",
    "\n",
    "let update_env (x : string) v env = Env.add x v env \n",
    "let lookup_env (x : string) env = Env.find x env "
   ]
  },
  {
   "cell_type": "markdown",
   "id": "e2092970",
   "metadata": {},
   "source": [
    "## Part 1: Interpreter for Basic Parts (6 points)\n",
    "\n",
    "In the first part of the assignment, you write an interpreter for the part that does not require arbitrary functions, i.e. the subpart of the syntax without the syntactic classes ``program``, ``methods``, ``method``, and ``args`` and with expressions restricted to: \n",
    "\n",
    "\n",
    "```\n",
    "<exp> ::= <id> | plus (<exp>, <exp>) | minus (<exp>, <exp>) | times (<exp>, <exp>) | divide (<exp>, <exp>) | <int> ",
    "\n",
    "```"
   ]
  },
  {
   "cell_type": "markdown",
   "id": "37f1604e",
   "metadata": {},
   "source": [
    "For now, values are simply integers:"
   ]
  },
  {
   "cell_type": "code",
   "execution_count": null,
   "id": "eea79f26",
   "metadata": {
    "vscode": {
     "languageId": "ocaml"
    }
   },
   "outputs": [],
   "source": [
    "type value = VInt of int"
   ]
  },
  {
   "cell_type": "markdown",
   "id": "a5581fcc",
   "metadata": {},
   "source": [
    "Write a mutually recursive evaluator for statements in FUNC. "
   ]
  },
  {
   "cell_type": "code",
   "execution_count": null,
   "id": "85c8f404",
   "metadata": {
    "vscode": {
     "languageId": "ocaml"
    }
   },
   "outputs": [],
   "source": [
    "let rec eval_exp (e : exp) (env : value Env.t) : value = match e with \n",
    "    | Numb n ->  (* TODO *)\n",
    "    | Id x -> (* TODO *)\n",
    "    | App (\"plus\", [e1; e2]) -> (match eval_exp e1 env, eval_exp e2 env with \n",
    "                                | VInt m, VInt n -> (* TODO *)\n",
    "                                )\n",
    "    | App (\"times\", [e1; e2]) -> (* TODO *)\n",
    "    | App (\"minus\", [e1; e2]) -> (* TODO *)\n",
    "    | App (\"divide\", [e1; e2]) -> (* TODO *)\n",
    "    | App (f, es) -> raise (RuntimeError \"Arbitrary functions not implemented.\")\n",
    "\n",
    "and eval_condexp (e : cond) (env : value Env.t) : int = match e with                          \n",
    "    (* TODO *)\n",
    "\n",
    " and eval_stmt (s : statement) (env : value Env.t) : value Env.t  = match s with \n",
    "    (* TODO: Cases for Assign, If, Ite, While, Write *)\n",
    "    | Read _ -> raise (RuntimeError \"Read not implemented.\")\n",
    "                        \n",
    "and eval_stmts (stmts : statement list) (env : value Env.t) : value Env.t = match stmts with \n",
    "    | [] -> (* TODO *)\n",
    "    | s :: stms' -> (* TODO *)"
   ]
  },
  {
   "cell_type": "markdown",
   "id": "e52ea54b",
   "metadata": {},
   "source": [
    "**Optional hints.** Your evaluator should contain, mutually recursively: \n",
    "-  a function ``eval_exp : exp -> value Env.t -> value`` evaluating expressions to values. \n",
    "Your expressions should correctly evaluate identifiers ``Id x`` and constants ``Numb n``, but for function arguments have to only evaluate ``App (\"plus\", [e1; e2])``, ``App (\"minus\", [e1; e2])``, ``App (\"times\", [e1; e2])`` and ``App (\"divide\", [e1; e2])``.\n",
    "You can match directly on these cases, i.e. \n",
    "```\n",
    "match e with \n",
    "| App (\"plus\", [e1; e2]) -> (* What it should evaluate to *)\n",
    "```\n",
    "Note that in these cases, no methods have to be executed - ``App (\"plus\", [VInt m; VInt n])`` simply evaluates to ``VInt (m + n)``.\n",
    "All other function calls should throw an error message saying that they are not implemented: \n",
    "```\n",
    "match e with \n",
    "... \n",
    "| App (f, es) -> raise (RuntimeError \"Arbitrary functions not implemented.\")\n",
    "```\n",
    "(You want to test that all tests until ``test_add`` are working before you continue.)\n",
    "- a function ``eval_condexp: cond -> value Env.t -> int`` that evaluates conditional expressions. \n",
    "- a function ``eval_stmt: statement -> value Env.t -> value Env.t`` that evaluates a single statement.\n",
    "As in SIMP, please ignore the ``Read`` primitive, i.e. add the case: \n",
    "\n",
    "```\n",
    "    | Read _ -> raise (RuntimeError \"Read not implemented.\")\n",
    "```\n",
    "\n",
    "- a function ``eval_stmts: statement list -> value Env.t -> value Env.t`` that evaluates a list of statements. "
   ]
  },
  {
   "cell_type": "markdown",
   "id": "28709a3e",
   "metadata": {},
   "source": [
    "### Test Cases Part 1\n",
    "Here is a (not necessarily complete) set of test cases: "
   ]
  },
  {
   "cell_type": "code",
   "execution_count": null,
   "id": "df87d163",
   "metadata": {
    "vscode": {
     "languageId": "ocaml"
    }
   },
   "outputs": [],
   "source": [
    "(* let p1 : program  =\n",
    "  P\n",
    "    [M (\"pow\", [\"x\"; \"y\"], [\"i\"; \"res\"],\n",
    "      [Assign (\"res\", Id \"x\"); Assign (\"i\", Numb 1);\n",
    "       While (C (Less, Id \"i\", Id \"y\"),\n",
    "        [Assign (\"res\", App (\"times\", [Id \"res\"; Id \"x\"]));\n",
    "         Assign (\"i\", App (\"plus\", [Id \"i\"; Numb 1]))]);\n",
    "       Write (Id \"res\")],\n",
    "      Some \"res\");\n",
    "     M (\"main\", [], [\"a\"; \"b\"; \"x\"],\n",
    "      [Assign (\"a\", Numb 5); Assign (\"b\", Numb 2);\n",
    "       Assign (\"x\", App (\"pow\", [Id \"b\"; Id \"a\"]));\n",
    "       Ite (C (Eq, Id \"x\", Numb 32), [Write (Numb 1)], [Write (Numb 0)])],\n",
    "      None)] *)\n",
    "\n",
    "let env = update_env \"x\" (VInt 2) (update_env \"y\" (VInt 5) Env.empty)\n",
    "\n",
    "let test_numb =  eval_exp (Numb 3) env\n",
    "(* Should yield VInt 3. *)\n",
    "\n",
    "let test_id =  eval_exp (Id \"x\") env\n",
    "(* Should yield VInt 2. *)\n",
    "\n",
    "let test_add = eval_exp (App (\"plus\", [Id \"x\"; Numb 3])) env\n",
    "(* Should yield VInt 5. *)\n",
    "\n",
    "let test_stmt_write = eval_stmt (Write (Numb 3)) env\n",
    "(* This should yield: \"OUTPUT: 3\" *)\n",
    "\n",
    "let test_stmts = eval_stmts [Assign (\"res\", Id \"x\"); Assign (\"i\", Numb 1);\n",
    "       While (C (Less, Id \"i\", Id \"y\"),\n",
    "        [Assign (\"res\", App (\"times\", [Id \"res\"; Id \"x\"]));\n",
    "         Assign (\"i\", App (\"plus\", [Id \"i\"; Numb 1]))]);\n",
    "       Write (Id \"res\")] env  \n",
    "       \n",
    "(* This should yield: \"OUTPUT: 32\". *)"
   ]
  },
  {
   "cell_type": "markdown",
   "id": "c953249e",
   "metadata": {},
   "source": [
    "## Part 2: Interpreter Including Methods (4 points)\n",
    "\n",
    "In the second part, you extend the interpreter with methods. \n",
    "\n",
    "Values can now be *either* integers *or* closures: "
   ]
  },
  {
   "cell_type": "code",
   "execution_count": null,
   "id": "7815a3a9",
   "metadata": {
    "vscode": {
     "languageId": "ocaml"
    }
   },
   "outputs": [],
   "source": [
    "type value = VInt of int | Closure of string list * statement list * string option "
   ]
  },
  {
   "cell_type": "markdown",
   "id": "ef91d3bc",
   "metadata": {},
   "source": [
    "### Closures \n",
    "\n",
    "A **closure** describes a method, to be evaluated once we know what expressions the variables are bound to. It consists of the **argument names** ``string list``, a list of statements called the **function body** ``statement list`` and an optional return variable ``string option``."
   ]
  },
  {
   "cell_type": "markdown",
   "id": "fd72216d",
   "metadata": {},
   "source": [
    "**Example**. Let us look at the example of: \n",
    "\n",
    "```\n",
    "method pow(x, y) vars i, res\n",
    "begin\n",
    "    res := x; ",
    "\n",
    "\n",
    "    i := 1; ",
    "\n",
    "\n",
    "    while less(i,y)\n",
    "    begin\n",
    "        res := times(res,x);\n",
    "        i := plus(i,1); \n",
    "    endwhile;\n",
    "    write res;\n",
    "    return res;\n",
    "endmethod;\n",
    "\n",
    "method main() vars a, b, x\n",
    "begin\n",
    "    a := 5; b := 2; ",
    "\n",
    "\n",
    "    x := pow(b,a);\n",
    "    if  eq(x,32) then write 1; else write 0; endif; \n",
    "endmethod;\n",
    "```\n",
    "\n",
    "This is what happens during evaluation:\n",
    "1. \"pow\" is bound to the closure of ``pow``, i.e. \n",
    "    ``Closure ([\"x\"; \"y\"], \"res := x ... write res\", Some res)``. \n",
    "2. \"main\" is bound to the closure of ``main``, i.e. \n",
    "    ``Closure ([], \"a := 5... endif\", None)``.\n",
    "3. The main function, ``App (\"main\", [])`` is evaluated in the enviroment ``env`` where pow/main are bound to their closure. As the main function has no arguments, no variables are bound to expressions. Evaluating ``App (\"main\", [])`` means that we \n",
    "    1. Look up the closure of \"main\" in the environment, ensuring it's actually a closure. (If it's not a closure, throw a Runtime Error.) \n",
    "    2. Potentially update the environment to bind the arguments of \"main\" to the handed over expressions. In this case, main does not take any arguments.\n",
    "    3. Execute the statements of \"main\". Here, we first enhance the environment to env' and bind \"a\" to ``VInt 5`` and b to ``VInt 2``. Then, we call \"pow(b, a)\". \n",
    "        1. We look up the closure of \"pow\" in the environment, ensuring it's actually a closure. (If it's not a closure, throw a Runtime Error.)\n",
    "        2. We update the environment to an environment env'' and bind \"x\" to the value of b, i.e. ``VInt 2``, and \"y\" to the value of \"a\", i.e. ``VInt 5``. This means the environment now contains \"main\", \"pow\", \"a\", \"b\", \"x\", and \"y\".\n",
    "        3. We evaluate the statements of \"pow\" in this updated environment env'' to a new environment in which for example res is bound to 32. As res is the variable in the return statement, we evaluate to ``VInt 32`` in this most recent environment.\n",
    "    4. We bind \"x\" to ``VInt 32``, and continue with the environment before calling ``pow(b, a)``, i.e. env'. \n",
    "    5. We write 1."
   ]
  },
  {
   "cell_type": "code",
   "execution_count": null,
   "id": "b0e5880e",
   "metadata": {
    "vscode": {
     "languageId": "ocaml"
    }
   },
   "outputs": [],
   "source": [
    "(* TODO: Copy your solution from part 1. \n",
    "You will have to change the cases where you match on values, i.e. \n",
    "\n",
    "| App (\"plus\", [e1; e2]) -> (match eval_exp e1 env, eval_exp e2 env with \n",
    "                                | VInt m, VInt n -> VInt (m + n)\n",
    "                                | _, _ -> raise (RuntimeError \"Not integer values\"))\n",
    "\n",
    "Also, you will have to adapt the case of arbitary functions.\n",
    "*)\n",
    "\n",
    "                        \n",
    "let eval_method (m : mmethod) (env : value Env.t) = match m with \n",
    "    | M (f, args, dcls, s, ret) ->  (* TODO *)\n",
    "    \n",
    "let rec eval_methods (cs : mmethod list) (env : value Env.t) : value Env.t = match cs with \n",
    "    | [] -> (* TODO *)\n",
    "    | c :: cs -> (* TODO *)\n",
    "    \n",
    "let eval_program p = match p with \n",
    "    | P ms -> (* TODO *)\n"
   ]
  },
  {
   "cell_type": "markdown",
   "id": "f31277d6",
   "metadata": {},
   "source": [
    "**Implementation Hints.** Your evaluator should do the following modifications to the code in part 1:\n",
    "\n",
    "- You will want to start by copying your code from part 1.\n",
    "- You might have to change parts where you are matching on values as functions might also be closures.\n",
    "- You require a function ``eval_method : mmethod -> value Env.t -> value Env.t`` that adds the closure corresponding to the method to the environment. Note that *nothing* is evaluated at this point, but we just do a binding, i.e. ``eval_method (M (\"pow\", [\"x\"; \"y\"], [\"i\"; \"res\"], [Assign (\"res\", Id \"x\") ...], Some \"res\"))`` should yield the updated environment where \"pow\" is bound to ``Closure ([\"x\"; \"y\"], [Assign (\"res\", Id \"x\") ...], Some res)``.\n",
    "\n",
    "- You require a function ``eval_methods : mmethod list -> value Env.t -> value Env.t`` that repeats the above step to a list of methods. \n",
    "(Test that ``test_method`` and ``test_methods`` are working before you continue.)\n",
    "\n",
    "- The function ``eval_program : program -> value`` should first evaluates the list of methods, and then evaluates `` eval_exp (App (\"main\", [])) env`` in this updated environment.\n",
    "\n",
    "- You have to modify ``eval_exp`` for applications: \n",
    "\n",
    "```\n",
    " | App (f, es) -> ...\n",
    "```\n",
    "    \n",
    "You might want to first start by getting this to work if ``es`` is empty. \n",
    "In this case you simply evaluate the body of *f*. \n",
    "(Test that ``test_no_arguments`` is working.)\n",
    "\n",
    "- In the case of arguments, you have to first evaluate all expressions ``es`` (you can get a list of values using the ``List.map`` primitive, ``List.map (fun x -> eval_exp x env) es`` which evaluates all elements in ``es`` in the environment ``env``). You then have to bind these values to the arguments of \"f\", which you can find in its closure, to a new environment env'. You might require a new function for this part.\n",
    "You then evaluate the body of f, i.e. use ``eval_stmts`` on ``es`` in the new environment env'."
   ]
  },
  {
   "cell_type": "markdown",
   "id": "b0feb90a",
   "metadata": {},
   "source": [
    "### Test Cases Part 2\n",
    "Here is a (not necessarily complete) set of test cases: "
   ]
  },
  {
   "cell_type": "code",
   "execution_count": null,
   "id": "8a355024",
   "metadata": {
    "vscode": {
     "languageId": "ocaml"
    }
   },
   "outputs": [],
   "source": [
    "let pow = M (\"pow\", [\"x\"; \"y\"], [\"i\"; \"res\"],\n",
    "      [Assign (\"res\", Id \"x\"); Assign (\"i\", Numb 1);\n",
    "       While (C (Less, Id \"i\", Id \"y\"),\n",
    "        [Assign (\"res\", App (\"times\", [Id \"res\"; Id \"x\"]));\n",
    "         Assign (\"i\", App (\"plus\", [Id \"i\"; Numb 1]))]);\n",
    "       Write (Id \"res\")],\n",
    "      Some \"res\") \n",
    "      \n",
    "let methods = [M (\"pow\", [\"x\"; \"y\"], [\"i\"; \"res\"],\n",
    "      [Assign (\"res\", Id \"x\"); Assign (\"i\", Numb 1);\n",
    "       While (C (Less, Id \"i\", Id \"y\"),\n",
    "        [Assign (\"res\", App (\"times\", [Id \"res\"; Id \"x\"]));\n",
    "         Assign (\"i\", App (\"plus\", [Id \"i\"; Numb 1]))]);\n",
    "       Write (Id \"res\")],\n",
    "      Some \"res\");\n",
    "     M (\"main\", [], [\"a\"; \"b\"; \"x\"],\n",
    "      [Assign (\"a\", Numb 5); Assign (\"b\", Numb 2);\n",
    "       Assign (\"x\", App (\"pow\", [Id \"b\"; Id \"a\"]));\n",
    "       Ite (C (Eq, Id \"x\", Numb 32), [Write (Numb 1)], [Write (Numb 0)])],\n",
    "      None)]\n",
    "\n",
    "let test_method = let \n",
    "        env = eval_method pow Env.empty in \n",
    "        assert (lookup_env \"pow\" env = Closure ([\"x\"; \"y\"], [Assign (\"res\", Id \"x\"); Assign (\"i\", Numb 1);\n",
    "       While (C (Less, Id \"i\", Id \"y\"),\n",
    "        [Assign (\"res\", App (\"times\", [Id \"res\"; Id \"x\"]));\n",
    "         Assign (\"i\", App (\"plus\", [Id \"i\"; Numb 1]))]);\n",
    "       Write (Id \"res\")], Some \"res\"))\n",
    "\n",
    "let test_methods = let\n",
    "        env = eval_methods methods Env.empty in \n",
    "        assert (lookup_env \"pow\" env = Closure ([\"x\"; \"y\"], [Assign (\"res\", Id \"x\"); Assign (\"i\", Numb 1);\n",
    "       While (C (Less, Id \"i\", Id \"y\"),\n",
    "        [Assign (\"res\", App (\"times\", [Id \"res\"; Id \"x\"]));\n",
    "         Assign (\"i\", App (\"plus\", [Id \"i\"; Numb 1]))]);\n",
    "       Write (Id \"res\")], Some \"res\"))\n",
    "\n",
    "\n",
    "let prog_no_arg = P [M (\"main\", [], [\"a\"; \"b\"; \"x\"],\n",
    "      [Assign (\"a\", Numb 5); Assign (\"b\", Numb 2);\n",
    "       Assign (\"x\", App (\"plus\", [Id \"b\"; Id \"a\"]));\n",
    "       Write (Id \"x\")],\n",
    "      None)]\n",
    "\n",
    "\n",
    "let test_no_argument = eval_program prog_no_arg\n",
    "(* Should print: \"OUTPUT: 7.\" *)\n",
    "\n",
    "let p1 : program  =\n",
    "  P\n",
    "    [M (\"pow\", [\"x\"; \"y\"], [\"i\"; \"res\"],\n",
    "      [Assign (\"res\", Id \"x\"); Assign (\"i\", Numb 1);\n",
    "       While (C (Less, Id \"i\", Id \"y\"),\n",
    "        [Assign (\"res\", App (\"times\", [Id \"res\"; Id \"x\"]));\n",
    "         Assign (\"i\", App (\"plus\", [Id \"i\"; Numb 1]))]);\n",
    "       Write (Id \"res\")],\n",
    "      Some \"res\");\n",
    "     M (\"main\", [], [\"a\"; \"b\"; \"x\"],\n",
    "      [Assign (\"a\", Numb 5); Assign (\"b\", Numb 2);\n",
    "       Assign (\"x\", App (\"pow\", [Id \"b\"; Id \"a\"]));\n",
    "       Ite (C (Eq, Id \"x\", Numb 32), [Write (Numb 1)], [Write (Numb 0)])],\n",
    "      None)]\n",
    "      \n",
    "let test_program = eval_program p1      \n",
    "(* Should print: \n",
    "OUTPUT:32\n",
    "OUTPUT:1 *)"
   ]
  }
 ],
 "metadata": {
  "kernelspec": {
   "display_name": "OCaml 4.13",
   "language": "OCaml",
   "name": "ocaml-jupyter-4.13"
  },
  "language_info": {
   "codemirror_mode": "text/x-ocaml",
   "file_extension": ".ml",
   "mimetype": "text/x-ocaml",
   "name": "OCaml",
   "nbconverter_exporter": null,
   "pygments_lexer": "OCaml",
   "version": "4.13.1"
  }
 },
 "nbformat": 4,
 "nbformat_minor": 5
}
