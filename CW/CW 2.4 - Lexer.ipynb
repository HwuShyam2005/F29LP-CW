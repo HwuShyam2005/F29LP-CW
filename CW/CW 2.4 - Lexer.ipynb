{
 "cells": [
  {
   "cell_type": "markdown",
   "id": "64a4419e",
   "metadata": {},
   "source": [
    "# CW 2.4:  Lexer for FUNC"
   ]
  },
  {
   "cell_type": "markdown",
   "id": "ef45ea05",
   "metadata": {},
   "source": [
    "**CW 2.4** consists of writing a lexer for FUNC.\n",
    "\n",
    "**Submissions** Please recall that for this week (only), you'll have to submit a .zip file containing both this notebook and the file ``CW/func.mll``."
   ]
  },
  {
   "cell_type": "markdown",
   "id": "9b7dc909",
   "metadata": {},
   "source": [
    "## The Source Language: FUNC\n",
    "\n",
    "Recall the syntax of FUNC:\n",
    "\n",
    "```\n",
    "<program> ::= <methods> ",
    "\n",
    "<methods> ::= <method>;[<methods>] ",
    "\n",
    "<method> ::= method <id>([<args>]) [vars <args>] \n",
    "\tbegin <statements> [return <id>;] endmethod\n",
    "<args> ::= <id>[,<args>] \n",
    "<statements> ::= <statement>;[<statements>] ",
    "\n",
    "<statement> ::= <assign> | <if> | <while> | <rw>\n",
    "<rw> ::= read <id> | write <exp>\n",
    "<assign> ::= <id> := <exp>\n",
    "<if> ::= if  <cond> then <statements> [else <statements>] endif ",
    "\n",
    "<while> ::= while <cond> begin <statements> endwhile\n",
    "<cond> ::= <bop> ( [<exps>] ) ",
    "\n",
    "<bop> ::= less | lessEq | eq | nEq ",
    "\n",
    "<exps> ::= <exp> [,<exps>] ",
    "\n",
    "<exp> ::= <id>[( [<exps>] )] | <int> ",
    "\n",
    "<int> is a natural number (no leading zeroes) ",
    "\n",
    "<id> is any string starting with a character followed by characters or numbers (that is not already a keyword)\n",
    "```\n",
    "\n",
    "- Each program must have a function called ``main`` with no arguments and no return value. \n",
    "- All other functions may have an optional return value. If a function does not have a return value, they implicitly return `0`.\n",
    "- You should support the following built-in functions - assume they have been defined; they accept two integers and return an integer:\n",
    "     - ``plus``, which adds its arguments;\n",
    "     - ``times``, which multiplies its arguments;\n",
    "     - ``minus``, which subtracts its arguments;\n",
    "     - ``divide``, which divides its arguments.\n",
    "- All the boolean operators (``less``, ``lessEq``, ``eq``, ``nEq``) are also binary, i.e. take two arguments.\n",
    "- The ``read`` command assumes that the given variable is an ``int`` variable.\n",
    "\n",
    "##### Example \n",
    "\n",
    "The following example illustrates a valid FUNC program (more examples later in the document)\n",
    "\n",
    "```\n",
    "method pow(x, y) vars i, res\n",
    "begin\n",
    "    res := x; ",
    "\n",
    "    i := 1; ",
    "\n",
    "    while less(i,y)\n",
    "    begin\n",
    "        res := times(res,x);\n",
    "        i := plus(i,1); \n",
    "    endwhile;\n",
    "    write res;\n",
    "    return res;\n",
    "endmethod;\n",
    "\n",
    "method main() vars a, b, x\n",
    "begin\n",
    "    a := 5; b := 2; ",
    "\n",
    "    x := pow(b,a);\n",
    "    if  eq(x,32) then write 1; else write 0; endif; \n",
    "endmethod;\n",
    "```"
   ]
  },
  {
   "cell_type": "markdown",
   "id": "bc72e9d7",
   "metadata": {},
   "source": [
    "## Lexing"
   ]
  },
  {
   "cell_type": "markdown",
   "id": "c3ebdf60",
   "metadata": {},
   "source": [
    "**Task** Produce a lexer file into ``CW/func.mll`` together with a suitable representation of tokens."
   ]
  },
  {
   "cell_type": "markdown",
   "id": "bc36607d",
   "metadata": {},
   "source": [
    "**IMPORTANT** Jupyter Notebooks automatically saves some output information. \n",
    "Each time you change the ``func.mll`` file and want to re-run the following commands, \n",
    "first choose in the menu Kernel -> Restart & Clear Output to ensure your changed file is used."
   ]
  },
  {
   "cell_type": "code",
   "execution_count": null,
   "id": "7be51325",
   "metadata": {},
   "outputs": [],
   "source": [
    "#require \"jupyter.notebook\" ;;\n",
    "open Jupyter_notebook ;;"
   ]
  },
  {
   "cell_type": "code",
   "execution_count": null,
   "id": "7a940ccc",
   "metadata": {},
   "outputs": [],
   "source": [
    "(* Run the lexer generator *)\n",
    "Process.sh \"ocamllex func.mll\";;\n",
    "\n",
    "(* Compile and load the file produced by the lexer *)\n",
    "Process.sh \"ocamlc -c func.ml\";;\n",
    "#load \"func.cmo\";;\n",
    "\n",
    "(* Convert the buffer into a list for further processing. *)\n",
    "let rec stream_to_list buffer = \n",
    "    match Func.token buffer with \n",
    "    | EOF -> []\n",
    "    | x -> x :: stream_to_list buffer"
   ]
  },
  {
   "cell_type": "code",
   "execution_count": null,
   "id": "0f9437fb",
   "metadata": {},
   "outputs": [],
   "source": [
    "(*\n",
    "You can test your lexer here. \n",
    "You will want to test your lexer with more code snippets!\n",
    "*)\n",
    "\n",
    "let p_basic = \n",
    "\"\n",
    "method main() vars inp, res\n",
    "begin\n",
    "read inp;\n",
    "res:=0;\n",
    "while less(0,inp)\n",
    "begin\n",
    "res := plus(res,inp);\n",
    "inp := minus(inp,1);\n",
    "endwhile;\n",
    "write res;\n",
    "endmethod;\n",
    "\";;\n",
    "\n",
    "open Func\n",
    "\n",
    "(* let res = stream_to_list (Lexing.from_string p_basic) *)"
   ]
  }
 ],
 "metadata": {
  "kernelspec": {
   "display_name": "OCaml 4.13",
   "language": "OCaml",
   "name": "ocaml-jupyter-4.13"
  },
  "language_info": {
   "codemirror_mode": "text/x-ocaml",
   "file_extension": ".ml",
   "mimetype": "text/x-ocaml",
   "name": "OCaml",
   "nbconverter_exporter": null,
   "pygments_lexer": "OCaml",
   "version": "4.13.1"
  }
 },
 "nbformat": 4,
 "nbformat_minor": 5
}
