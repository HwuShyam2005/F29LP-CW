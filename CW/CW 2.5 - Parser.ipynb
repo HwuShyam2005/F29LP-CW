{
 "cells": [
  {
   "cell_type": "markdown",
   "id": "64a4419e",
   "metadata": {},
   "source": [
    "# CW2.5:  Parser for FUNC\n",
    "\n",
    "In this week's assignment, you'll write a parser.\n",
    "\n",
    "Please submit a .zip file containing this notebook and the file ``CW/func.mll`` on Canvas.\n",
    "\n",
    "Please ensure that you do not change the name or signature of the functions ``parse_exp``, ``parse_program``, etc. "
   ]
  },
  {
   "cell_type": "markdown",
   "id": "4af2b3e2",
   "metadata": {},
   "source": [
    "##  Parsing "
   ]
  },
  {
   "cell_type": "markdown",
   "id": "44cbc00a",
   "metadata": {},
   "source": [
    "Below you can see an abstract grammar for the language you've seen before."
   ]
  },
  {
   "cell_type": "code",
   "execution_count": null,
   "id": "21b8c168",
   "metadata": {},
   "outputs": [],
   "source": [
    "type exp = Numb of int | Id of string | App of string * exp list\n",
    "\n",
    "type bop = Less | LessEq | Eq | NEq \n",
    "type cond = C of bop * exp * exp\n",
    "\n",
    "type statement =\n",
    "  Assign of string * exp\n",
    "| Read of string \n",
    "| Write of exp \n",
    "| If of cond * statement list\n",
    "| Ite of cond * statement list * statement list\n",
    "| While of cond * statement list\n",
    "\n",
    "type mmethod = M of string (* name of function *)\n",
    "                * string list (* arguments *)\n",
    "                * string list (* declarations *) \n",
    "                * statement list (* function body *)\n",
    "                * string option (* possible return value value *)\n",
    "\n",
    "type program = P of mmethod list"
   ]
  },
  {
   "cell_type": "markdown",
   "id": "df7665a4",
   "metadata": {},
   "source": [
    "Write a recursive-descent parser for ``FUNC``.\n",
    "Your parser should contain at least: \n",
    "- a function ``parse_exp : token list -> exp * token list``\n",
    "- a function ``parse_cond : token list -> cond * token list``\n",
    "- a function ``parse_statement : token list -> statement * token list``\n",
    "- a function ``parse_program : program -> statement * token list``\n",
    "\n",
    "You will require more functions. \n",
    "You can get partial points by providing e.g. only ``parse_exp``. \n",
    "\n",
    "**Hints:** \n",
    "- Your parser does **not** have to ensure that variables, functions, the ``main`` function etc. exists or functions are applied to the right number of arguments.\n",
    "- You will want to test your program step-by-step, e.g. test that ``parse_exp`` runs as expected before writing ``parse_cond``. \n",
    "- To write the parser, you'll require a definition of tokens. If you have done CW 2.4, you can use your definition of tokens from before (it will be automatically included by the definition below). If you haven't done CW 2.4/don't plan to do CW 2.4, please write Kathrin a brief e-mail (or ask during labs/the lecture): She will provide you with the definition of a data type of tokens."
   ]
  },
  {
   "cell_type": "code",
   "execution_count": null,
   "id": "dab9c356",
   "metadata": {},
   "outputs": [],
   "source": [
    "(* Code for importing the part of lexing. *)\n",
    "#require \"jupyter.notebook\" ;;\n",
    "open Jupyter_notebook ;;"
   ]
  },
  {
   "cell_type": "code",
   "execution_count": null,
   "id": "846eb563",
   "metadata": {},
   "outputs": [],
   "source": [
    "(* Code for importing your definition of a lexer.\n",
    "If not implemented, you want to insert here the definition of tokens, \n",
    "and instead of the provided tests, test your parser with lists of tokens. *)\n",
    "\n",
    "(* Run the lexer generator *)\n",
    "Process.sh \"ocamllex func.mll\";;\n",
    "\n",
    "(* Compile and load the file produced by the lexer *)\n",
    "Process.sh \"ocamlc -c func.ml\";;\n",
    "#load \"func.cmo\";;\n",
    "\n",
    "(* Convert the buffer into a list for further processing. *)\n",
    "let rec stream_to_list buffer = \n",
    "    match Func.token buffer with \n",
    "    | EOF -> []\n",
    "    | x -> x :: stream_to_list buffer"
   ]
  },
  {
   "cell_type": "code",
   "execution_count": null,
   "id": "2454acd9",
   "metadata": {},
   "outputs": [],
   "source": [
    "exception SyntaxError of string\n",
    "open List\n",
    "\n",
    "(* Optional:\n",
    "   You might want to write a function to print tokens. \n",
    "   Comment out if not needed.  *) \n",
    "      \n",
    "let print_token (t : Func.token) : string = match t with \n",
    " | _ -> \"TO IMPLEMENT\" \n",
    "\n",
    "let rec print_list (s :  Func.token list) = match s with \n",
    "  | [] -> \"\"\n",
    "  | x :: xs -> String.cat (print_token x) (String.cat \" \" (print_list xs))"
   ]
  },
  {
   "cell_type": "code",
   "execution_count": null,
   "id": "058d8bfa",
   "metadata": {},
   "outputs": [],
   "source": [
    "open Func"
   ]
  },
  {
   "cell_type": "code",
   "execution_count": null,
   "id": "fb9da115",
   "metadata": {},
   "outputs": [],
   "source": [
    "(* Optional helper functions *)\n",
    "let parse_id xs : string * token list = match xs with \n",
    " | ID x :: xs' -> (x, xs')\n",
    " | _ -> raise (SyntaxError \"Not an identifier.\")\n",
    "  \n",
    "let parse_token (x : token) (xs : token list) = match xs with \n",
    " | y :: ys -> if (x == y) then ys \n",
    "                 else raise (SyntaxError (String.cat \"Token expected: \"(String.cat (print_token x) (print_list xs) )))\n",
    " | _ -> raise (SyntaxError (String.cat \"Token expected: \"(String.cat (print_token x) (print_list xs) ))) "
   ]
  },
  {
   "cell_type": "code",
   "execution_count": null,
   "id": "c0c20c16",
   "metadata": {},
   "outputs": [],
   "source": [
    "let rec parse_exp (ts : token list) : exp * token list = \n",
    "    raise (SyntaxError \"Not implemented yet\")"
   ]
  },
  {
   "cell_type": "code",
   "execution_count": null,
   "id": "6e8aff53",
   "metadata": {},
   "outputs": [],
   "source": [
    "let parse_cond (ts : token list) : cond * token list =  \n",
    "    raise (SyntaxError \"Not implemented yet\")"
   ]
  },
  {
   "cell_type": "code",
   "execution_count": null,
   "id": "2f72bd4d",
   "metadata": {},
   "outputs": [],
   "source": [
    "let rec parse_statement (ts : token list) : statement * token list = \n",
    "    raise (SyntaxError \"Not implemented yet\")"
   ]
  },
  {
   "cell_type": "code",
   "execution_count": null,
   "id": "00f14d36",
   "metadata": {},
   "outputs": [],
   "source": [
    "let parse_program (ts: token list) : program * token list =\n",
    "    raise (SyntaxError \"Not implemented yet\")"
   ]
  },
  {
   "cell_type": "markdown",
   "id": "860446cd",
   "metadata": {},
   "source": [
    "## Appendix - Example Programs"
   ]
  },
  {
   "cell_type": "code",
   "execution_count": null,
   "id": "4a6d5feb",
   "metadata": {},
   "outputs": [],
   "source": [
    "let ex1 = \"method pow(x, y) vars i, res\n",
    "begin\n",
    "\n",
    "\tres := x;\n",
    "\ti := 1;\n",
    "\twhile less(i,y)\n",
    "\tbegin\n",
    "\t\tres := times(res,x);\n",
    "\t\ti := plus(i,1);\n",
    "        endwhile;\n",
    "\twrite res;\n",
    "\treturn res;\n",
    "\n",
    "endmethod;\n",
    "\n",
    "method main() vars a, b, x\n",
    "begin\n",
    "\n",
    "\ta := 5;\n",
    "\tb := 2;\n",
    "\tx := pow(b,a);\n",
    "\tif eq(x,32)\n",
    "\t\t then write 1;\n",
    "\telse\n",
    "\t\twrite 0;\n",
    "\tendif;\n",
    "\n",
    "endmethod;\n",
    "\"    \n",
    "\n",
    "let ex2 = \"method pow(x,y) vars i, res,w\n",
    "begin\n",
    "\n",
    "\tres := x(da,da(1,2,m(1,1)),1);\n",
    "\ti := 2;\n",
    "\tif eq(x,32) then \n",
    "\t\twrite 1;\n",
    "\t\tread a;\n",
    "\telse\n",
    "\t\tb := 11;\n",
    "\tendif;\n",
    "\twhile less(i,y)\n",
    "\tbegin\n",
    "\t\tres := times(res,x);\n",
    "\t\ti := plus(i,1);\n",
    "        endwhile;\n",
    "\twrite res;\n",
    "\treturn res;\n",
    "\n",
    "endmethod;\n",
    "\n",
    "method main() vars a, b, x\n",
    "begin\n",
    "\n",
    "\ta := 5; \n",
    "\tb := 2;\n",
    "\tx := pow(b,a);\n",
    "\tif eq(x,32)\n",
    "\t\t then write 1; \n",
    "\telse \n",
    "\t\twrite 0;\n",
    "\tendif; \n",
    "endmethod;\"\n",
    "\n",
    "let ex3 = \"method main() vars inp, res\n",
    "begin\n",
    "read inp;\n",
    "res:=0;\n",
    "while less(0,inp)\n",
    "begin\n",
    "res := plus(res,inp);\n",
    "inp := minus(inp,1);\n",
    "endwhile;\n",
    "write res;\n",
    "endmethod;\n",
    "\"\n",
    "\n",
    "let ex4 = \"method sum(inp) vars res\n",
    "begin\n",
    "res:=0;\n",
    "while less(0,inp)\n",
    "begin\n",
    "res := plus(res,inp);\n",
    "inp := minus(inp,1);\n",
    "endwhile;\n",
    "return res;\n",
    "endmethod;\n",
    "\n",
    "method main() vars inp,res\n",
    "begin\n",
    "read inp;\n",
    "res := sum(inp);\n",
    "write res;\n",
    "endmethod;\"\n",
    "\n",
    "let ex5 = \"method sum(inp) vars tmp\n",
    "begin\n",
    "if eq(inp,0) then\n",
    "res := inp;\n",
    "else\n",
    "tmp := sum(minus(inp,1));\n",
    "res := plus(tmp,inp);\n",
    "endif;\n",
    "endmethod;\n",
    "\n",
    "method main() vars inp,res\n",
    "begin\n",
    "read inp;\n",
    "res := sum(inp);\n",
    "write res;\n",
    "endmethod;\"\n",
    "\n",
    "let text_to_ast ex = parse_program (stream_to_list (Lexing.from_string ex))\n",
    "\n",
    "(* Compare with what you expect *)\n",
    "let parsed1 = text_to_ast ex1 \n",
    "let parsed2 = text_to_ast ex2\n",
    "let parsed3 = text_to_ast ex3\n",
    "let parsed4 = text_to_ast ex4\n",
    "let parsed5 = text_to_ast ex5"
   ]
  }
 ],
 "metadata": {
  "kernelspec": {
   "display_name": "OCaml 4.13",
   "language": "OCaml",
   "name": "ocaml-jupyter-4.13"
  },
  "language_info": {
   "codemirror_mode": "text/x-ocaml",
   "file_extension": ".ml",
   "mimetype": "text/x-ocaml",
   "name": "OCaml",
   "nbconverter_exporter": null,
   "pygments_lexer": "OCaml",
   "version": "4.13.1"
  }
 },
 "nbformat": 4,
 "nbformat_minor": 5
}
