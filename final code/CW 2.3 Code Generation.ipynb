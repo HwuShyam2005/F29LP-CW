{
 "cells": [
  {
   "cell_type": "markdown",
   "id": "64a4419e",
   "metadata": {},
   "source": [
    "# CW2.3:  Compiler Back End for FUNC\n",
    "\n",
    "This week, you will extend the code generator with function calls.\n",
    "\n",
    "Again, at the end of this file you'll find example program you can test your programs with. \n",
    "**You will want to write additional tests for intermediate steps.**"
   ]
  },
  {
   "cell_type": "markdown",
   "id": "9b7dc909",
   "metadata": {},
   "source": [
    "## The Target Language \n",
    "\n",
    "We will again use the ``FUNC`` language from CW 2.1 and CW 2.2, see there for a description. \n",
    "\n",
    "In this part, you will extend the basic solution with function calls.\n",
    "You will want to copy over your solution from CW 2.2.\n",
    "\n",
    "Here is additional information on the requirements for function calls:\n",
    "\n",
    "- You can use ``$t8`` and ``$t9`` for intermediate computations as we have done for SIMP.\n",
    "- The code in the ``main()`` function should be executed (using the ``start_:`` label in MIPS). You have to put ``.global _start`` at the beginning of the assembly code to ensure that the assembler finds this label.\n",
    "    - All other functions can only be reached by calling them from ``main`` (possibly indirectly via other functions).\n",
    "    - ``main`` cannot be called by any functions (including ``main``).\n",
    "- You can assume that there are sufficient registers to hold all variables in a function.\n",
    "    - Registers should be allocated in the order variables are introduced, starting with ``$s0/$t0``\n",
    "    - Use the ``$s0-$s7`` registers to store variables of the ``main()`` function. \n",
    "    - Use the ``$t0-$t7`` registers for the variables of other functions.\n",
    "    - There are no global variables.\n",
    "- Use ``$a0-$a3`` to store function arguments. You may assume that there are not more than 4 arguments.\n",
    "- Use ``$v0`` to store the return value. The variable declared in the optional return statement at the end of each method should be returned in ``$v0``.\n",
    "- You are allowed to define an arbitrary number of additional functions - but please use the high-level functions for compilation.\n",
    "\n",
    "The appendix (bottom of this document) contains an example of generated code which you will want to ensure that you understand before you start coding.\n",
    "\n",
    "**Marking Scheme**. \n",
    "You will get 6/10 points for developing a solution which supports basic function calls (but no nested/recursive calls). \n",
    "This means you need to implement a suitable register-based protocol where ``$a0-$a3`` is used for arguments, and ``$v0`` for the result. You can assume a maximum of 4 arguments. Remember, you should use the ``$t0-$t7`` registers for local variables (except for main() where ``$s0-$s7`` are used).\n",
    "\n",
    "You will get the remaining 4/10 points if your solution also supports recursive and nested calls. To achieve this, you need to develop a stack frame. As all variables are in registers, (when required) you will need to push a stack frame with all caller-save registers before the call is made and pop them back to the correct registers when control is returned to the caller\n",
    "\n",
    "\n",
    "### Additional Hints \n",
    "\n",
    "*The assignment is doable without the following hints; but if you need an additional starting point, the following contains a more detailed description on what to do.*\n",
    "\n",
    "You will want to start to ensure that you \n",
    "- understand the details on the slides about function calls. \n",
    "- understand the example generated code in the appendix with annotations and understand each of the instructions.\n",
    "\n",
    "Compared to the basic solution, you will have then to implement the following features: \n",
    "- When compiling expressions, you have to add the general case of ``App (s, es)``. In this case, you have to: \n",
    "    - Push the stack frame with all caller-save registers. You might want to use the function ``all_registers :: int Env.t -> register list`` which returns all registers currently registered in the environment.\n",
    "    - Ensure that the expressions ``es`` are compiled into the argument registers ``$a0-$a3``. (Recall that you can assume that there are never more than 4 arguments.) \n",
    "        - Hint: You might want to use an additional function ``compile_exps env (rs : register list) (es : exp list) : code`` for doing so, mutually recursive with ``compile_exp`` (``and compile_exps env (rs : register list) (es : exp list) : code = match rs, es with ... ``).\n",
    "        \n",
    "    - Register the return address and jump to the label of the subroutine (which is responsible to bring you back to the next instruction).\n",
    "    - Pop the stack frame.\n",
    "    - Move the value at ``$v0`` into the goal register.\n",
    "- When using the argument registers for ``syscall``, you have to push/pop ``$a0`` to ensure you are not overwriting the arguments.\n",
    "- ``compile_method`` has now also to support arbitrary methods. In particular, this means that \n",
    "    - You have to add a label for the subroutine at the beginning of the code of your method.\n",
    "    - ``compile_dcls`` has to distinguish whether variables are declared in the ``main()`` function or from another function. The pre-defined function ``declare_local_var: int Env.t -> string -> int Env.t`` behaves similar to ``declare_var`` but adds a variable to ``$t0-$t7`` instead of ``$s0-$s7``.\n",
    "    - You require to declare the argument registers at the beginning of a method; you might want to write a new function for this.\n",
    "    - You need to jump back to the return address ``$ra`` at the end of a not-main method. "
   ]
  },
  {
   "cell_type": "markdown",
   "id": "44cbc00a",
   "metadata": {},
   "source": [
    "Below is the abstract grammar for the language you've seen before."
   ]
  },
  {
   "cell_type": "code",
   "execution_count": 40,
   "id": "21b8c168",
   "metadata": {},
   "outputs": [
    {
     "data": {
      "text/plain": [
       "type exp = Numb of int | Id of string | App of string * exp list\n"
      ]
     },
     "execution_count": 40,
     "metadata": {},
     "output_type": "execute_result"
    },
    {
     "data": {
      "text/plain": [
       "type bop = Less | LessEq | Eq | NEq\n"
      ]
     },
     "execution_count": 40,
     "metadata": {},
     "output_type": "execute_result"
    },
    {
     "data": {
      "text/plain": [
       "type cond = C of bop * exp * exp\n"
      ]
     },
     "execution_count": 40,
     "metadata": {},
     "output_type": "execute_result"
    },
    {
     "data": {
      "text/plain": [
       "type statement =\n",
       "    Assign of string * exp\n",
       "  | Read of string\n",
       "  | Write of exp\n",
       "  | If of cond * statement list\n",
       "  | Ite of cond * statement list * statement list\n",
       "  | While of cond * statement list\n"
      ]
     },
     "execution_count": 40,
     "metadata": {},
     "output_type": "execute_result"
    },
    {
     "data": {
      "text/plain": [
       "type mmethod =\n",
       "    M of string * string list * string list * statement list * string option\n"
      ]
     },
     "execution_count": 40,
     "metadata": {},
     "output_type": "execute_result"
    },
    {
     "data": {
      "text/plain": [
       "type program = P of mmethod list\n"
      ]
     },
     "execution_count": 40,
     "metadata": {},
     "output_type": "execute_result"
    }
   ],
   "source": [
    "type exp = Numb of int | Id of string | App of string * exp list\n",
    "\n",
    "type bop = Less | LessEq | Eq | NEq \n",
    "type cond = C of bop * exp * exp\n",
    "\n",
    "type statement =\n",
    "  Assign of string * exp\n",
    "| Read of string \n",
    "| Write of exp \n",
    "| If of cond * statement list\n",
    "| Ite of cond * statement list * statement list\n",
    "| While of cond * statement list\n",
    "\n",
    "type mmethod = M of string (* name of function *)\n",
    "                * string list (* arguments *)\n",
    "                * string list (* declarations *) \n",
    "                * statement list (* function body *)\n",
    "                * string option (* possible return value value *)\n",
    "\n",
    "type program = P of mmethod list"
   ]
  },
  {
   "cell_type": "markdown",
   "id": "bbb0e1d5",
   "metadata": {},
   "source": [
    "# Definitions"
   ]
  },
  {
   "cell_type": "code",
   "execution_count": 41,
   "id": "38d95d11",
   "metadata": {},
   "outputs": [
    {
     "data": {
      "text/plain": [
       "type register = int\n"
      ]
     },
     "execution_count": 41,
     "metadata": {},
     "output_type": "execute_result"
    },
    {
     "data": {
      "text/plain": [
       "val v0 : register = 2\n"
      ]
     },
     "execution_count": 41,
     "metadata": {},
     "output_type": "execute_result"
    },
    {
     "data": {
      "text/plain": [
       "val v1 : register = 3\n"
      ]
     },
     "execution_count": 41,
     "metadata": {},
     "output_type": "execute_result"
    },
    {
     "data": {
      "text/plain": [
       "val a0 : register = 4\n"
      ]
     },
     "execution_count": 41,
     "metadata": {},
     "output_type": "execute_result"
    },
    {
     "data": {
      "text/plain": [
       "val a1 : register = 5\n"
      ]
     },
     "execution_count": 41,
     "metadata": {},
     "output_type": "execute_result"
    },
    {
     "data": {
      "text/plain": [
       "val a2 : register = 6\n"
      ]
     },
     "execution_count": 41,
     "metadata": {},
     "output_type": "execute_result"
    },
    {
     "data": {
      "text/plain": [
       "val a3 : register = 7\n"
      ]
     },
     "execution_count": 41,
     "metadata": {},
     "output_type": "execute_result"
    },
    {
     "data": {
      "text/plain": [
       "val t0 : register = 8\n"
      ]
     },
     "execution_count": 41,
     "metadata": {},
     "output_type": "execute_result"
    },
    {
     "data": {
      "text/plain": [
       "val t1 : register = 9\n"
      ]
     },
     "execution_count": 41,
     "metadata": {},
     "output_type": "execute_result"
    },
    {
     "data": {
      "text/plain": [
       "val t2 : register = 10\n"
      ]
     },
     "execution_count": 41,
     "metadata": {},
     "output_type": "execute_result"
    },
    {
     "data": {
      "text/plain": [
       "val t3 : register = 11\n"
      ]
     },
     "execution_count": 41,
     "metadata": {},
     "output_type": "execute_result"
    },
    {
     "data": {
      "text/plain": [
       "val t4 : register = 12\n"
      ]
     },
     "execution_count": 41,
     "metadata": {},
     "output_type": "execute_result"
    },
    {
     "data": {
      "text/plain": [
       "val t5 : register = 13\n"
      ]
     },
     "execution_count": 41,
     "metadata": {},
     "output_type": "execute_result"
    },
    {
     "data": {
      "text/plain": [
       "val t6 : register = 14\n"
      ]
     },
     "execution_count": 41,
     "metadata": {},
     "output_type": "execute_result"
    },
    {
     "data": {
      "text/plain": [
       "val t7 : register = 15\n"
      ]
     },
     "execution_count": 41,
     "metadata": {},
     "output_type": "execute_result"
    },
    {
     "data": {
      "text/plain": [
       "val s0 : register = 16\n"
      ]
     },
     "execution_count": 41,
     "metadata": {},
     "output_type": "execute_result"
    },
    {
     "data": {
      "text/plain": [
       "val s1 : register = 17\n"
      ]
     },
     "execution_count": 41,
     "metadata": {},
     "output_type": "execute_result"
    },
    {
     "data": {
      "text/plain": [
       "val s2 : register = 18\n"
      ]
     },
     "execution_count": 41,
     "metadata": {},
     "output_type": "execute_result"
    },
    {
     "data": {
      "text/plain": [
       "val s3 : register = 19\n"
      ]
     },
     "execution_count": 41,
     "metadata": {},
     "output_type": "execute_result"
    },
    {
     "data": {
      "text/plain": [
       "val s4 : register = 20\n"
      ]
     },
     "execution_count": 41,
     "metadata": {},
     "output_type": "execute_result"
    },
    {
     "data": {
      "text/plain": [
       "val s5 : register = 21\n"
      ]
     },
     "execution_count": 41,
     "metadata": {},
     "output_type": "execute_result"
    },
    {
     "data": {
      "text/plain": [
       "val s6 : register = 22\n"
      ]
     },
     "execution_count": 41,
     "metadata": {},
     "output_type": "execute_result"
    },
    {
     "data": {
      "text/plain": [
       "val s7 : register = 23\n"
      ]
     },
     "execution_count": 41,
     "metadata": {},
     "output_type": "execute_result"
    },
    {
     "data": {
      "text/plain": [
       "val t8 : register = 24\n"
      ]
     },
     "execution_count": 41,
     "metadata": {},
     "output_type": "execute_result"
    },
    {
     "data": {
      "text/plain": [
       "val t9 : register = 25\n"
      ]
     },
     "execution_count": 41,
     "metadata": {},
     "output_type": "execute_result"
    },
    {
     "data": {
      "text/plain": [
       "val sp : register = 29\n"
      ]
     },
     "execution_count": 41,
     "metadata": {},
     "output_type": "execute_result"
    },
    {
     "data": {
      "text/plain": [
       "val fp : register = 30\n"
      ]
     },
     "execution_count": 41,
     "metadata": {},
     "output_type": "execute_result"
    },
    {
     "data": {
      "text/plain": [
       "val ra : register = 31\n"
      ]
     },
     "execution_count": 41,
     "metadata": {},
     "output_type": "execute_result"
    },
    {
     "data": {
      "text/plain": [
       "type label = string\n"
      ]
     },
     "execution_count": 41,
     "metadata": {},
     "output_type": "execute_result"
    },
    {
     "data": {
      "text/plain": [
       "type instruction =\n",
       "    Add of register * register * register\n",
       "  | Sub of register * register * register\n",
       "  | Addi of register * register * int\n",
       "  | Addiu of register * register * int\n",
       "  | Mul of register * register * register\n",
       "  | Div of register * register\n",
       "  | And of register * register * register\n",
       "  | Or of register * register * register\n",
       "  | Andi of register * register * int\n",
       "  | Ori of register * register * int\n",
       "  | Lw of register * int * register\n",
       "  | Sw of register * int * register\n",
       "  | La of register * label\n",
       "  | Li of register * int\n",
       "  | Move of register * register\n",
       "  | Mfhi of register\n",
       "  | Mflo of register\n",
       "  | Label of label\n",
       "  | Beq of register * register * string\n",
       "  | Bne of register * register * string\n",
       "  | Bgt of register * register * string\n",
       "  | Blt of register * register * string\n",
       "  | Bge of register * register * string\n",
       "  | Ble of register * register * string\n",
       "  | J of label\n",
       "  | Jr of register\n",
       "  | Jal of label\n",
       "  | SysCall\n",
       "  | Verbatim of string\n"
      ]
     },
     "execution_count": 41,
     "metadata": {},
     "output_type": "execute_result"
    },
    {
     "data": {
      "text/plain": [
       "type code = instruction list\n"
      ]
     },
     "execution_count": 41,
     "metadata": {},
     "output_type": "execute_result"
    },
    {
     "data": {
      "text/plain": [
       "val print_register : register -> string = <fun>\n"
      ]
     },
     "execution_count": 41,
     "metadata": {},
     "output_type": "execute_result"
    },
    {
     "data": {
      "text/plain": [
       "val print_instruction : instruction -> string = <fun>\n"
      ]
     },
     "execution_count": 41,
     "metadata": {},
     "output_type": "execute_result"
    },
    {
     "data": {
      "text/plain": [
       "val print_code : code -> unit = <fun>\n"
      ]
     },
     "execution_count": 41,
     "metadata": {},
     "output_type": "execute_result"
    },
    {
     "data": {
      "text/plain": [
       "exception EEnv of string\n"
      ]
     },
     "execution_count": 41,
     "metadata": {},
     "output_type": "execute_result"
    },
    {
     "data": {
      "text/plain": [
       "val maxreg : int = 23\n"
      ]
     },
     "execution_count": 41,
     "metadata": {},
     "output_type": "execute_result"
    },
    {
     "data": {
      "text/plain": [
       "module Env :\n",
       "  sig\n",
       "    type key = String.t\n",
       "    type 'a t = 'a Map.Make(String).t\n",
       "    val empty : 'a t\n",
       "    val is_empty : 'a t -> bool\n",
       "    val mem : key -> 'a t -> bool\n",
       "    val add : key -> 'a -> 'a t -> 'a t\n",
       "    val update : key -> ('a option -> 'a option) -> 'a t -> 'a t\n",
       "    val singleton : key -> 'a -> 'a t\n",
       "    val remove : key -> 'a t -> 'a t\n",
       "    val merge :\n",
       "      (key -> 'a option -> 'b option -> 'c option) -> 'a t -> 'b t -> 'c t\n",
       "    val union : (key -> 'a -> 'a -> 'a option) -> 'a t -> 'a t -> 'a t\n",
       "    val compare : ('a -> 'a -> int) -> 'a t -> 'a t -> int\n",
       "    val equal : ('a -> 'a -> bool) -> 'a t -> 'a t -> bool\n",
       "    val iter : (key -> 'a -> unit) -> 'a t -> unit\n",
       "    val fold : (key -> 'a -> 'b -> 'b) -> 'a t -> 'b -> 'b\n",
       "    val for_all : (key -> 'a -> bool) -> 'a t -> bool\n",
       "    val exists : (key -> 'a -> bool) -> 'a t -> bool\n",
       "    val filter : (key -> 'a -> bool) -> 'a t -> 'a t\n",
       "    val filter_map : (key -> 'a -> 'b option) -> 'a t -> 'b t\n",
       "    val partition : (key -> 'a -> bool) -> 'a t -> 'a t * 'a t\n",
       "    val cardinal : 'a t -> int\n",
       "    val bindings : 'a t -> (key * 'a) list\n",
       "    val min_binding : 'a t -> key * 'a\n",
       "    val min_binding_opt : 'a t -> (key * 'a) option\n",
       "    val max_binding : 'a t -> key * 'a\n",
       "    val max_binding_opt : 'a t -> (key * 'a) option\n",
       "    val choose : 'a t -> key * 'a\n",
       "    val choose_opt : 'a t -> (key * 'a) option\n",
       "    val split : key -> 'a t -> 'a t * 'a option * 'a t\n",
       "    val find : key -> 'a t -> 'a\n",
       "    val find_opt : key -> 'a t -> 'a option\n",
       "    val find_first : (key -> bool) -> 'a t -> key * 'a\n",
       "    val find_first_opt : (key -> bool) -> 'a t -> (key * 'a) option\n",
       "    val find_last : (key -> bool) -> 'a t -> key * 'a\n",
       "    val find_last_opt : (key -> bool) -> 'a t -> (key * 'a) option\n",
       "    val map : ('a -> 'b) -> 'a t -> 'b t\n",
       "    val mapi : (key -> 'a -> 'b) -> 'a t -> 'b t\n",
       "    val to_seq : 'a t -> (key * 'a) Seq.t\n",
       "    val to_rev_seq : 'a t -> (key * 'a) Seq.t\n",
       "    val to_seq_from : key -> 'a t -> (key * 'a) Seq.t\n",
       "    val add_seq : (key * 'a) Seq.t -> 'a t -> 'a t\n",
       "    val of_seq : (key * 'a) Seq.t -> 'a t\n",
       "  end\n"
      ]
     },
     "execution_count": 41,
     "metadata": {},
     "output_type": "execute_result"
    },
    {
     "data": {
      "text/plain": [
       "val find_max_register : int Env.t -> int = <fun>\n"
      ]
     },
     "execution_count": 41,
     "metadata": {},
     "output_type": "execute_result"
    },
    {
     "data": {
      "text/plain": [
       "val declare_var : int Env.t -> string -> int Env.t = <fun>\n"
      ]
     },
     "execution_count": 41,
     "metadata": {},
     "output_type": "execute_result"
    },
    {
     "data": {
      "text/plain": [
       "exception E of string\n"
      ]
     },
     "execution_count": 41,
     "metadata": {},
     "output_type": "execute_result"
    },
    {
     "data": {
      "text/plain": [
       "val push : register -> code = <fun>\n"
      ]
     },
     "execution_count": 41,
     "metadata": {},
     "output_type": "execute_result"
    },
    {
     "data": {
      "text/plain": [
       "val pop : register -> code = <fun>\n"
      ]
     },
     "execution_count": 41,
     "metadata": {},
     "output_type": "execute_result"
    },
    {
     "data": {
      "text/plain": [
       "val counter : int ref = {contents = 0}\n"
      ]
     },
     "execution_count": 41,
     "metadata": {},
     "output_type": "execute_result"
    },
    {
     "data": {
      "text/plain": [
       "val next_val : unit -> int = <fun>\n"
      ]
     },
     "execution_count": 41,
     "metadata": {},
     "output_type": "execute_result"
    }
   ],
   "source": [
    "(* We represent registers as numbers. Registers are represented by 0 to 31. *)\n",
    "type register = int\n",
    "\n",
    "(* Value returned by a subroutine *)\n",
    "let v0 : register = 2 \n",
    "let v1 : register = 3 \n",
    "\n",
    "(* Arguments to subroutine *)\n",
    "let a0 : register = 4 \n",
    "let a1 : register = 5\n",
    "let a2 : register = 6\n",
    "let a3 : register = 7\n",
    "\n",
    "(* Temporary registers *)\n",
    "let t0 : register = 8\n",
    "let t1 : register = 9\n",
    "let t2 : register = 10\n",
    "let t3 : register = 11\n",
    "let t4 : register = 12\n",
    "let t5 : register = 13\n",
    "let t6 : register = 14\n",
    "let t7 : register = 15\n",
    "\n",
    "(* Saved registers *)\n",
    "let s0 : register = 16\n",
    "let s1 : register = 17 \n",
    "let s2 : register = 18 \n",
    "let s3 : register = 19 \n",
    "let s4 : register = 20 \n",
    "let s5 : register = 21\n",
    "let s6 : register = 22 \n",
    "let s7 : register = 23 \n",
    "\n",
    "(* Temporary registers $t8 and $t9 will be used for intermediate results. *)\n",
    "let t8 : register = 24 (* $t8 *)\n",
    "let t9 : register = 25 (* $t9 *)\n",
    "\n",
    "let (sp : register) = 29 (* stack pointer *)\n",
    "let (fp : register) = 30 (* frame pointer *)\n",
    "let (ra : register) = 31 (* return address *)\n",
    "\n",
    "(* We represent instructions as an abstract data type. *)\n",
    "\n",
    "type label = string\n",
    "\n",
    "type instruction =  Add of register * register * register (* add $1, $2, $3 - $1 = $2 + $3 *)\n",
    "                   | Sub of register * register * register (* sub $1, $2, $3; $1 = $2 - $3 *)\n",
    "                   | Addi of register * register * int (* addi $1, $2, 100 - $1 = $2 + 100, immediate means a constant number  *)\n",
    "                   | Addiu of register * register * int (* addi $1, $2, 100 - $1 = $2 + 100, values treated as unsigned, immediate means a constant number  *)\n",
    "                   | Mul of register * register * register (* mul $1, $2, $3 - $1 = $2 * $3, without overflow, result is only 32 bits *)\n",
    "                   | Div of register * register (* div $2, $3 - $hi,$low=$2/$3, Remainder stored in special register hi, Quotient stored in special register lo   *)\n",
    "                   | And of register * register * register (* and $1, $2, $3 - $1 = $2 & $3, bitwise AND *)\n",
    "                   | Or of register * register * register (* or $1, $2, $3 - $1 = $2 | 100, bitwise OR *)\n",
    "                   | Andi of register * register * int (* andi $1, $2, 100 - $1 = $2 & 100, bitwise AND with immediate value  *)\n",
    "                   | Ori of register * register * int (* ori $1, $2, 100 - $1 = $2 | 100, bitwise OR with immediate value  *)\n",
    "                   | Lw of register * int * register (* lw $1, 100 ($2) - load word, $1 = Memory[$2 + 100], copy from memory to register *)\n",
    "                   | Sw of register * int * register (* sw $1, 100 ($2) - store word, Memory[$2 + 100] = $1, copy from register to memory *)\n",
    "                   | La of register * label (* $1 = Address of label *) \n",
    "                   | Li of register * int (* li $1, 100 - Loads immediate value into register *)\n",
    "                   | Move of register * register (* move $1,$2 - $1 = $2, Copy from register to register *)\n",
    "                   | Mfhi of register (* mfhi $2, $2 = hi, copy from special register hi to general register *)\n",
    "                   | Mflo of register (* mflo $2, $2 = lo, copy from special register lo to general register *)\n",
    "                   | Label of label \n",
    "                   | Beq of register * register * string (* beq $1, $2, l - if ($1 == $2) go to label l *)\n",
    "                   | Bne of register * register * string (* bne $1, $2, l - if ($1 != $2) go to label l *)\n",
    "                   | Bgt of register * register * string (* bgt $1, $2, l - if ($1 > $2) go to label l *)\n",
    "                   | Blt of register * register * string (* blt $1, $2, l - if ($1 < $2) go to label l *)\n",
    "                   | Bge of register * register * string (* bge $1, $2, l - if ($1 >= $2) go to label l *)\n",
    "                   | Ble of register * register * string (* ble $1, $2, l - if ($1 <= $2) go to label l *)                  \n",
    "                   | J of label (* j l, go to label l, jumps to target address *)\n",
    "                   | Jr of register (* jump register, jr $1, go to address stored in $1 *)\n",
    "                   | Jal of label (* jump and link, e.g. jal l - $ra=PC+4; go to label l - used when making procedure call. This saves the return address in $ra.  *)\n",
    "                   | SysCall \n",
    "                   | Verbatim of string (* Produce the given string verbatim in the assembly output *)\n",
    "                   \n",
    "type code = instruction list\n",
    "\n",
    "let print_register (r : register) = \n",
    "    match r with \n",
    "    | 2 | 3 -> \"$v\" ^ (string_of_int (r - v0)) \n",
    "    | 4 |5 |6 | 7 -> \"$a\" ^ string_of_int (r - a0)\n",
    "    | 8|9|10|11|12|13|14|15 -> \"$t\" ^ string_of_int (r - t0) \n",
    "    | 16|17|18|19|20|21|22|23 -> \"$s\" ^ string_of_int (r - s0)\n",
    "    | 24 -> \"$t8\"\n",
    "    | 25 -> \"$t9\"\n",
    "    | 29 -> \"$sp\"\n",
    "    | 30 -> \"$fp\"\n",
    "    | 31 -> \"$ra\"\n",
    "    | _ -> \"$\" ^ string_of_int r\n",
    "\n",
    "let print_instruction (i : instruction) = match i with \n",
    "    | Add (r1, r2, r3) -> \"add \" ^ print_register r1 ^ \", \" ^ print_register r2 ^ \", \" ^ print_register r3\n",
    "    | Sub (r1, r2, r3) -> \"sub \" ^ print_register r1 ^ \", \" ^ print_register r2 ^ \", \" ^ print_register r3\n",
    "    | Addi (r1, r2, i) -> \"addi \" ^ print_register r1 ^ \", \" ^ print_register r2 ^ \", \" ^ string_of_int i\n",
    "    | Addiu (r1, r2, i) -> \"addiu \" ^ print_register r1 ^ \", \" ^ print_register r2 ^ \", \" ^ string_of_int i\n",
    "    | Mul (r1, r2, r3) -> \"mul \" ^ print_register r1 ^ \", \" ^ print_register r2 ^ \", \" ^ print_register r3\n",
    "    | Div (r1, r2) -> \"div \" ^ print_register r1 ^ \", \" ^ print_register r2\n",
    "    | Beq (r1, r2, l) ->  \"beq \" ^ print_register r1 ^ \", \" ^ print_register r2 ^ \", \" ^ l\n",
    "    | Bne (r1, r2, l) ->  \"bne \" ^ print_register r1 ^ \", \" ^ print_register r2 ^ \", \" ^ l\n",
    "    | Bgt (r1, r2, l) ->  \"bgt \" ^ print_register r1 ^ \", \" ^ print_register r2 ^ \", \" ^ l\n",
    "    | Blt (r1, r2, l) ->  \"blt \" ^ print_register r1 ^ \", \" ^ print_register r2 ^ \", \" ^ l\n",
    "    | Bge (r1, r2, l) ->  \"bge \" ^ print_register r1 ^ \", \" ^ print_register r2 ^ \", \" ^ l\n",
    "    | Ble (r1, r2, l) ->  \"ble \" ^ print_register r1 ^ \", \" ^ print_register r2 ^ \", \" ^ l\n",
    "    | Li (r, i) -> \"li \" ^ print_register r ^ \", \" ^ string_of_int i\n",
    "    | Lw (r1, o, r2) -> \"lw \" ^ print_register r1 ^ \", \" ^ string_of_int o ^ \"(\" ^ print_register r2 ^ \")\" \n",
    "    | La (r, l) -> \"la \" ^ print_register r ^ \", \" ^  l\n",
    "    | Sw (r1, o, r2) -> \"sw \" ^ print_register r1 ^ \", \" ^ string_of_int o ^ \"(\" ^ print_register r2 ^ \")\" \n",
    "    | Move (r1, r2) -> \"move \" ^ print_register r1 ^ \", \" ^ print_register r2\n",
    "    | Mfhi r -> \"mfhi \"^ print_register r\n",
    "    | Mflo r -> \"mflo \"^ print_register r\n",
    "    | And (r1, r2, r3) -> \"and \" ^ print_register r1 ^ \", \" ^ print_register r2 ^ \", \" ^ print_register r3\n",
    "    | Andi (r1, r2, r3) -> \"andi \" ^ print_register r1 ^ \", \" ^ print_register r2 ^ \", \" ^ print_register r3\n",
    "    | Or (r1, r2, r3) -> \"or \" ^ print_register r1 ^ \", \" ^ print_register r2 ^ \", \" ^ print_register r3\n",
    "    | Ori (r1, r2, r3) -> \"ori \" ^ print_register r1 ^ \", \" ^ print_register r2 ^ \", \" ^ print_register r3\n",
    "    | SysCall -> \"syscall\"\n",
    "    | Label l -> l ^ \":\"\n",
    "    | J label -> \"j \" ^ label \n",
    "    | Jr r -> \"jr \" ^ print_register r\n",
    "    | Jal label -> \"jal \" ^ label\n",
    "    | Verbatim s -> s\n",
    "   \n",
    "let rec print_code (c : code) : unit = match c with \n",
    "    | [] -> ()\n",
    "    | c :: cs -> (print_endline (print_instruction c); print_code cs)\n",
    "    \n",
    "exception EEnv of string\n",
    "\n",
    "let maxreg = 23\n",
    "\n",
    "module Env = Map.Make (String)\n",
    "\n",
    "(*  Function that finds the largest register in the environment. *)\n",
    "let find_max_register (env : int Env.t) = \n",
    "    Env.fold (fun _ a b -> max a b) env (s0 - 1) \n",
    "\n",
    "\n",
    "(* Declaring a variable: \n",
    "  - When trying to declare a variable, and there are too many registers already \n",
    "    reserved, throw an exception. \n",
    "  - Else: Assign to variable x the largest register number + 1.\n",
    "*)\n",
    "let declare_var (env: int Env.t) (x:string) : int Env.t = \n",
    "    if (find_max_register env) >= maxreg\n",
    "     then raise (EEnv \"Too many variables\")\n",
    "     else Env.add x (1 + find_max_register env) env\n",
    "     \n",
    "exception E of string\n",
    "\n",
    "(* Pushing the content of register r to the stack *)\n",
    "let push (r : register) : code = [Addiu (sp, sp, -4);\n",
    "                                  Sw (r, 0, sp)]\n",
    "\n",
    "(* Popping the stack into register r *)\n",
    "let pop (r : register) : code = [Lw (r, 0, sp);\n",
    "                                 Addiu (sp, sp, 4)]\n",
    "                                 \n",
    "                                 \n",
    "let counter : int ref = {contents = 0}\n",
    "\n",
    "let next_val = \n",
    "    fun () ->\n",
    "      counter := (!counter) + 1;\n",
    "      !counter;;                                 "
   ]
  },
  {
   "cell_type": "markdown",
   "id": "dd607513",
   "metadata": {},
   "source": [
    "Here are some additional helper functions which might be useful:\n",
    "- ``all_registers`` yields a list of all registers used by an environment. \n",
    "- ``declare_local_var`` behaves similar to ``declare_var``, but assigns the smallest unused **local register** (that is, ``$t0`` to ``$t7``) to a variable ``x``. "
   ]
  },
  {
   "cell_type": "code",
   "execution_count": 42,
   "id": "bcb20feb",
   "metadata": {},
   "outputs": [
    {
     "data": {
      "text/plain": [
       "val all_registers : 'a Env.t -> 'a list = <fun>\n"
      ]
     },
     "execution_count": 42,
     "metadata": {},
     "output_type": "execute_result"
    },
    {
     "data": {
      "text/plain": [
       "val maxlocalreg : int = 15\n"
      ]
     },
     "execution_count": 42,
     "metadata": {},
     "output_type": "execute_result"
    },
    {
     "data": {
      "text/plain": [
       "val find_max_local_register : int Env.t -> int = <fun>\n"
      ]
     },
     "execution_count": 42,
     "metadata": {},
     "output_type": "execute_result"
    },
    {
     "data": {
      "text/plain": [
       "val declare_local_var : int Env.t -> string -> int Env.t = <fun>\n"
      ]
     },
     "execution_count": 42,
     "metadata": {},
     "output_type": "execute_result"
    }
   ],
   "source": [
    "(* The following function yields a list of all registers used by an environment env *)\n",
    "let all_registers env = Env.fold (fun k x xs -> x :: xs) env []\n",
    "\n",
    "(* Variants of declare_var for local variables. *)\n",
    "let maxlocalreg = 15\n",
    "\n",
    "(*  Function that finds the largest local register in the environment. *)\n",
    "let find_max_local_register (env : int Env.t) = \n",
    "    Env.fold (fun _ a b -> if a > maxlocalreg then b else max a b) env (t0 - 1) \n",
    "\n",
    "(* Declaring a local variable: \n",
    "  - When trying to declare a local variable, and there are too many registers already \n",
    "    reserved, throw an exception. \n",
    "  - Else: Assign to variable x the largest local register number + 1.\n",
    "*)\n",
    "let declare_local_var (env: int Env.t) (x:string) : int Env.t = \n",
    "    if (find_max_local_register env) >= maxlocalreg\n",
    "     then raise (EEnv \"Too many variables\")\n",
    "     else Env.add x (1 + find_max_local_register env) env"
   ]
  },
  {
   "cell_type": "markdown",
   "id": "2786650f",
   "metadata": {},
   "source": [
    "## Your Code\n",
    "\n",
    "Fill out the gaps below."
   ]
  },
  {
   "cell_type": "code",
   "execution_count": 43,
   "id": "772ce017",
   "metadata": {},
   "outputs": [
    {
     "data": {
      "text/plain": [
       "val argument_registers : register list = [4; 5; 6; 7]\n"
      ]
     },
     "execution_count": 43,
     "metadata": {},
     "output_type": "execute_result"
    },
    {
     "data": {
      "text/plain": [
       "val push_stack_frame : register Env.t -> code = <fun>\n"
      ]
     },
     "execution_count": 43,
     "metadata": {},
     "output_type": "execute_result"
    },
    {
     "data": {
      "text/plain": [
       "val pop_stack_frame : register Env.t -> code = <fun>\n"
      ]
     },
     "execution_count": 43,
     "metadata": {},
     "output_type": "execute_result"
    },
    {
     "data": {
      "text/plain": [
       "val compile_exp : register Env.t -> register -> exp -> code = <fun>\n",
       "val compile_exps : register Env.t -> register list -> exp list -> code =\n",
       "  <fun>\n"
      ]
     },
     "execution_count": 43,
     "metadata": {},
     "output_type": "execute_result"
    },
    {
     "data": {
      "text/plain": [
       "val compile_check : bop -> register -> register -> string -> instruction =\n",
       "  <fun>\n"
      ]
     },
     "execution_count": 43,
     "metadata": {},
     "output_type": "execute_result"
    },
    {
     "data": {
      "text/plain": [
       "val compile_test :\n",
       "  register Env.t -> bop -> exp -> exp -> string -> instruction list = <fun>\n"
      ]
     },
     "execution_count": 43,
     "metadata": {},
     "output_type": "execute_result"
    },
    {
     "data": {
      "text/plain": [
       "val input_exp : register Env.t -> Env.key -> instruction list = <fun>\n"
      ]
     },
     "execution_count": 43,
     "metadata": {},
     "output_type": "execute_result"
    },
    {
     "data": {
      "text/plain": [
       "val output_exp : register Env.t -> exp -> instruction list = <fun>\n"
      ]
     },
     "execution_count": 43,
     "metadata": {},
     "output_type": "execute_result"
    },
    {
     "data": {
      "text/plain": [
       "val compile_cmd : register Env.t -> statement -> code = <fun>\n",
       "val compile_cmds : register Env.t -> statement list -> code = <fun>\n"
      ]
     },
     "execution_count": 43,
     "metadata": {},
     "output_type": "execute_result"
    }
   ],
   "source": [
    "let argument_registers = [a0; a1; a2; a3]\n",
    "\n",
    "(* TODO: Code for pushing/popping the stack frame. \n",
    "You might want to use the function all_registers, where all_registers env yields all registers \n",
    "at the momement registers in the environment.\n",
    "*)\n",
    "let push_stack_frame  env : code =\n",
    "    [Verbatim \"# Start pushing stack frame\"] \n",
    "    @ List.flatten (List.map push (ra :: all_registers env))\n",
    "    @ [Verbatim \"# End pushing stack frame\"]\n",
    "\n",
    "let pop_stack_frame env: code = \n",
    "    [Verbatim \"# Start popping stack frame\"] \n",
    "    @ List.flatten (List.map pop (List.rev (ra :: all_registers env)))\n",
    "    @ [Verbatim \"# End popping stack frame\"]\n",
    "\n",
    "\n",
    "(* Compiling code that saves the value of an expression e into register r. \n",
    "\n",
    "    CW 2.3 requires you only to change the last case.\n",
    "   The basic function calls solution can ignore nested and recursive calls and hence the stack frame.\n",
    "*)\n",
    "let rec compile_exp env (r : register) (e : exp)  : code = match e with \n",
    "    | Id s -> [Move (r, Env.find s env)]\n",
    "    | Numb n -> [Li (r, n)]\n",
    "    | App (\"plus\", e1 :: e2 :: []) -> compile_exp env t8 e1\n",
    "                                        @ push t8\n",
    "                                        @ compile_exp env t9 e2\n",
    "                                        @ pop t8\n",
    "                                        @ [Add (r, t8, t9)]\n",
    "    | App (\"minus\", e1 :: e2 :: []) -> compile_exp env t8 e1\n",
    "                                        @ push t8\n",
    "                                        @ compile_exp env t9 e2\n",
    "                                        @ pop t8\n",
    "                                        @ [Sub (r, t8, t9)]\n",
    "    | App (\"times\", e1 :: e2 :: []) -> compile_exp env t8 e1\n",
    "                                        @ push t8\n",
    "                                        @ compile_exp env t9 e2\n",
    "                                        @ pop t8\n",
    "                                        @ [Mul (r, t8, t9)]\n",
    "    | App (\"divide\", e1 :: e2 :: []) -> compile_exp env t8 e1\n",
    "                                        @ push t8\n",
    "                                        @ compile_exp env t9 e2\n",
    "                                        @ pop t8\n",
    "                                        @ [Div (r, t8); Mflo t9]\n",
    "    | App (s, es) -> push ra\n",
    "                     @ push_stack_frame env \n",
    "                     @ compile_exps env argument_registers es\n",
    "                     @ [Jal s]\n",
    "                     @ pop_stack_frame env \n",
    "                     @ pop ra\n",
    "                     @ [Move (r, v0)] \n",
    "\n",
    "(* Generate code that saves the values of a list of expressions into a list of registers rs, typically \n",
    "the argument registers. *)\n",
    "and compile_exps env (rs : register list) (es : exp list) : code = match rs, es with \n",
    "    | [],[] -> []\n",
    "    | _,[] -> []\n",
    "    | [],_ -> []\n",
    "    | r :: rs, e :: es -> compile_exp env r e @ compile_exps env rs es\n",
    "    \n",
    "(* Helper Function*)  \n",
    "let compile_check o r1 r2 label = match o with \n",
    "  | Less -> Bge (r1, r2, label)\n",
    "  | LessEq -> Bgt (r1, r2, label)\n",
    "  | Eq -> Bne (r1, r2, label)\n",
    "  | NEq -> Beq (r1, r2, label)                     \n",
    "\n",
    "(* Helper Function*)                                                                        \n",
    "let compile_test env o e1 e2 label =   \n",
    "  compile_exp env t8 e1 @\n",
    "  compile_exp env t9 e2 @\n",
    "  [compile_check o t8 t9 label]\n",
    "    \n",
    "    \n",
    "(* Helper function*)\n",
    "let input_exp env s =\n",
    "  let s_register = Env.find s env in\n",
    "  [Li (v0, 4); La (a0, \"sinp\"); SysCall; Li (v0, 5); SysCall; Move (s_register, v0)]  \n",
    "\n",
    "(* Helper function*)\n",
    "let output_exp env e =\n",
    "  [Li (v0, 1)] @ compile_exp env a0 e @ [SysCall] \n",
    "\n",
    "(* The following code mainly stays the same - but for the cases in which $a0 is used for syscalls. *)\n",
    "\n",
    "(* Generate code for a single command. *)\n",
    "let rec compile_cmd env (c : statement) : code = match c with \n",
    "    | Assign (s,e) -> compile_exp env (Env.find s env) e\n",
    "    | Read s -> input_exp env s \n",
    "    | Write e -> output_exp env e\n",
    "    | If (e, c) -> let l = \"IFEND\" ^ string_of_int (next_val ()) \n",
    "                   in (match e with \n",
    "                   | C (o, e1, e2) -> \n",
    "                   compile_test env o e1 e2 l @\n",
    "                   compile_cmds env c @\n",
    "                   [Label l])\n",
    "    | Ite (e, c1, c2) -> let count = string_of_int (next_val ()) in \n",
    "                         let l_end = \"IFEND\" ^ count in\n",
    "                         let l_false = \"IFFALSE\" ^ count in\n",
    "                         (match e with \n",
    "                         | C (o, e1, e2) -> \n",
    "                         compile_test env o e1 e2 l_false @\n",
    "                         compile_cmds env c1 @\n",
    "                         [J l_end] @\n",
    "                         [Label l_false] @\n",
    "                         compile_cmds env c2 @\n",
    "                         [Label l_end])\n",
    "    | While (e, c) -> let count = string_of_int (next_val ()) in\n",
    "                      let l_loop = \"WLOOP\" ^ count in\n",
    "                      let l_end = \"WEND\" ^ count in\n",
    "                      [Label l_loop] @\n",
    "                      (match e with \n",
    "                      | C (o, e1, e2) -> \n",
    "                      compile_test env o e1 e2 l_end @\n",
    "                      compile_cmds env c @\n",
    "                      [J l_loop] @\n",
    "                      [Label l_end]) \n",
    "                      \n",
    "(* Generate code for a list of commands. *)\n",
    "and compile_cmds env (cs : statement list) : code = match cs with \n",
    "    |[] -> []\n",
    "    | c :: cs -> compile_cmd env c @ compile_cmds env cs"
   ]
  },
  {
   "cell_type": "code",
   "execution_count": 44,
   "id": "14d8fb96",
   "metadata": {},
   "outputs": [
    {
     "data": {
      "text/plain": [
       "val compile_dcls : int Env.t -> string -> string list -> int Env.t = <fun>\n"
      ]
     },
     "execution_count": 44,
     "metadata": {},
     "output_type": "execute_result"
    },
    {
     "data": {
      "text/plain": [
       "val compile_method : mmethod -> code = <fun>\n"
      ]
     },
     "execution_count": 44,
     "metadata": {},
     "output_type": "execute_result"
    },
    {
     "data": {
      "text/plain": [
       "val compile_methods : mmethod list -> code = <fun>\n"
      ]
     },
     "execution_count": 44,
     "metadata": {},
     "output_type": "execute_result"
    },
    {
     "data": {
      "text/plain": [
       "val compile_program : program -> instruction list = <fun>\n"
      ]
     },
     "execution_count": 44,
     "metadata": {},
     "output_type": "execute_result"
    }
   ],
   "source": [
    "(* The f is the function name for which declarations are called \n",
    "- this could be either \"main\" or any other function. \n",
    "Add case where f is not \"main\" using the function declare_local_var. *)\n",
    "let rec compile_dcls env (f : string) dcls = match dcls with \n",
    "    | [] -> env \n",
    "    | dcl :: dcls' -> let env' = if f = \"main\" then declare_var env dcl else declare_local_var env dcl\n",
    "                      in compile_dcls env' f dcls'\n",
    "(*\n",
    "(* Helper Function*)\n",
    "let rec compile_opt env (x) = match x with\n",
    "  | Some x -> compile_exp env v0 (Id x)\n",
    "  | _   -> []\n",
    "  \n",
    "(* Helper Function*)            \n",
    "let rec assign_args env args reg = match args, reg with\n",
    "  | [], _ | _, [] -> env\n",
    "  | arg :: args_list, reg :: regs_list -> let env' = Env.add arg reg env \n",
    "                                          in assign_args env' args_list regs_list\n",
    "*)                                          \n",
    "\n",
    "\n",
    "(* Generate code for a method - Add second case for arbitrary functions compared to CW 2.2 *)\n",
    "let rec compile_method (m : mmethod) : code = match m with \n",
    " | M (\"main\", [], dcls, stms, None) -> let env = compile_dcls Env.empty \"main\" dcls in \n",
    "                                       let code = compile_cmds env stms in \n",
    "                                       [Label \"_start\"] @ code\n",
    " | M (name, args, dcls, stms, ret) -> let env = compile_dcls Env.empty name dcls in\n",
    "                                      let rec declare_args env args arg_reg = match args, arg_reg with\n",
    "                                          | [], [] -> env\n",
    "                                          | [], _ -> env\n",
    "                                          | _, [] -> env\n",
    "                                          | args1 :: args, ar1::ars -> let env' = Env.add args1 ar1 env in declare_args env' args ars\n",
    "                                      in let env' = declare_args env args argument_registers in\n",
    "                                      [Label name]\n",
    "                                      @ compile_cmds env' stms\n",
    "                                      @ (match ret with \n",
    "                                         | Some return -> [Move (v0, Env.find return env')]\n",
    "                                         | None -> [])\n",
    "                                      @ [Jr (ra)]              \n",
    "                                      \n",
    "(* Generate code for a list of methods - Should be identical to CW 2.2 *)\n",
    "let rec compile_methods (ms : mmethod list) : code = match ms with \n",
    "    | [] -> [] \n",
    "    | m :: ms -> compile_method m @ compile_methods ms\n",
    "\n",
    "(* Generate code for a whole program - Should be identical to CW 2.2 *)\n",
    "let compile_program (p : program) = match p with \n",
    "    | P ms -> [Verbatim \".global _start\"; Verbatim \".set noreorder\"; Verbatim \".data\"; Label \"sinp\"; Verbatim \".asciiz \\\"INPUT>\\\"\"; Verbatim \".text\"] \n",
    "    @compile_methods ms"
   ]
  },
  {
   "cell_type": "markdown",
   "id": "cfbdebf4",
   "metadata": {},
   "source": [
    "## Example Programs \n",
    "\n",
    "Below are the three example programs from the appendix as an AST. \n",
    "You can see example MIPS output for the full solution in the appendix (code for ``parsed_basic`` is in CW 2.2)."
   ]
  },
  {
   "cell_type": "code",
   "execution_count": 45,
   "id": "8e132fee",
   "metadata": {},
   "outputs": [
    {
     "data": {
      "text/plain": [
       "val parsed_basic : program =\n",
       "  P\n",
       "   [M (\"main\", [], [\"inp\"; \"res\"],\n",
       "     [Read \"inp\"; Assign (\"res\", Numb 0);\n",
       "      While (C (Less, Numb 0, Id \"inp\"),\n",
       "       [Assign (\"res\", App (\"plus\", [Id \"res\"; Id \"inp\"]));\n",
       "        Assign (\"inp\", App (\"minus\", [Id \"inp\"; Numb 1]))]);\n",
       "      Write (Id \"res\")],\n",
       "     None)]\n"
      ]
     },
     "execution_count": 45,
     "metadata": {},
     "output_type": "execute_result"
    },
    {
     "name": "stdout",
     "output_type": "stream",
     "text": [
      ".global _start\n",
      ".set noreorder\n",
      ".data\n",
      "sinp:\n",
      ".asciiz \"INPUT>\"\n",
      ".text\n",
      "_start:\n",
      "li $v0, 4\n",
      "la $a0, sinp\n",
      "syscall\n",
      "li $v0, 5\n",
      "syscall\n",
      "move $s0, $v0\n",
      "li $s1, 0\n",
      "WLOOP1:\n",
      "li $t8, 0\n",
      "move $t9, $s0\n",
      "bge $t8, $t9, WEND1\n",
      "move $t8, $s1\n",
      "addiu $sp, $sp, -4\n",
      "sw $t8, 0($sp)\n",
      "move $t9, $s0\n",
      "lw $t8, 0($sp)\n",
      "addiu $sp, $sp, 4\n",
      "add $s1, $t8, $t9\n",
      "move $t8, $s0\n",
      "addiu $sp, $sp, -4\n",
      "sw $t8, 0($sp)\n",
      "li $t9, 1\n",
      "lw $t8, 0($sp)\n",
      "addiu $sp, $sp, 4\n",
      "sub $s0, $t8, $t9\n",
      "j WLOOP1\n",
      "WEND1:\n",
      "li $v0, 1\n",
      "move $a0, $s1\n",
      "syscall\n"
     ]
    },
    {
     "data": {
      "text/plain": [
       "- : unit = ()\n"
      ]
     },
     "execution_count": 45,
     "metadata": {},
     "output_type": "execute_result"
    }
   ],
   "source": [
    "let parsed_basic = \n",
    "  P\n",
    "    [M (\"main\", [], [\"inp\"; \"res\"],\n",
    "      [Read \"inp\"; Assign (\"res\", Numb 0);\n",
    "       While (C (Less, Numb 0, Id \"inp\"),\n",
    "        [Assign (\"res\", App (\"plus\", [Id \"res\"; Id \"inp\"]));\n",
    "         Assign (\"inp\", App (\"minus\", [Id \"inp\"; Numb 1]))]);\n",
    "       Write (Id \"res\")],\n",
    "      None)];;\n",
    "\n",
    "print_code (compile_program parsed_basic)"
   ]
  },
  {
   "cell_type": "code",
   "execution_count": 38,
   "id": "1b4dd537",
   "metadata": {},
   "outputs": [
    {
     "data": {
      "text/plain": [
       "val parsed_basic_function : program =\n",
       "  P\n",
       "   [M (\"sum\", [\"inp\"], [\"res\"],\n",
       "     [Assign (\"res\", Numb 0);\n",
       "      While (C (Less, Numb 0, Id \"inp\"),\n",
       "       [Assign (\"res\", App (\"plus\", [Id \"res\"; Id \"inp\"]));\n",
       "        Assign (\"inp\", App (\"minus\", [Id \"inp\"; Numb 1]))])],\n",
       "     Some \"res\");\n",
       "    M (\"main\", [], [\"inp\"; \"res\"],\n",
       "     [Read \"inp\"; Assign (\"res\", App (\"sum\", [Id \"inp\"])); Write (Id \"res\")],\n",
       "     None)]\n"
      ]
     },
     "execution_count": 38,
     "metadata": {},
     "output_type": "execute_result"
    },
    {
     "name": "stdout",
     "output_type": "stream",
     "text": [
      ".global _start\n",
      ".set noreorder\n",
      ".data\n",
      "sinp:\n",
      ".asciiz \"INPUT>\"\n",
      ".text\n",
      "sum:\n",
      "li $t0, 0\n",
      "WLOOP2:\n",
      "li $t8, 0\n",
      "move $t9, $a0\n",
      "bge $t8, $t9, WEND2\n",
      "move $t8, $t0\n",
      "addiu $sp, $sp, -4\n",
      "sw $t8, 0($sp)\n",
      "move $t9, $a0\n",
      "lw $t8, 0($sp)\n",
      "addiu $sp, $sp, 4\n",
      "add $t0, $t8, $t9\n",
      "move $t8, $a0\n",
      "addiu $sp, $sp, -4\n",
      "sw $t8, 0($sp)\n",
      "li $t9, 1\n",
      "lw $t8, 0($sp)\n",
      "addiu $sp, $sp, 4\n",
      "sub $a0, $t8, $t9\n",
      "j WLOOP2\n",
      "WEND2:\n",
      "move $v0, $t0\n",
      "jr $ra\n",
      "_start:\n",
      "li $v0, 4\n",
      "la $a0, sinp\n",
      "syscall\n",
      "li $v0, 5\n",
      "syscall\n",
      "move $s0, $v0\n",
      "addiu $sp, $sp, -4\n",
      "sw $ra, 0($sp)\n",
      "# Start pushing stack frame\n",
      "addiu $sp, $sp, -4\n",
      "sw $ra, 0($sp)\n",
      "addiu $sp, $sp, -4\n",
      "sw $s1, 0($sp)\n",
      "addiu $sp, $sp, -4\n",
      "sw $s0, 0($sp)\n",
      "# End pushing stack frame\n",
      "move $a0, $s0\n",
      "jal sum\n",
      "# Start popping stack frame\n",
      "lw $s0, 0($sp)\n",
      "addiu $sp, $sp, 4\n",
      "lw $s1, 0($sp)\n",
      "addiu $sp, $sp, 4\n",
      "lw $ra, 0($sp)\n",
      "addiu $sp, $sp, 4\n",
      "# End popping stack frame\n",
      "lw $ra, 0($sp)\n",
      "addiu $sp, $sp, 4\n",
      "move $s1, $v0\n",
      "li $v0, 1\n",
      "move $a0, $s1\n",
      "syscall\n"
     ]
    },
    {
     "data": {
      "text/plain": [
       "- : unit = ()\n"
      ]
     },
     "execution_count": 38,
     "metadata": {},
     "output_type": "execute_result"
    }
   ],
   "source": [
    "let parsed_basic_function = \n",
    "P\n",
    "    [M (\"sum\", [\"inp\"], [\"res\"],\n",
    "      [Assign (\"res\", Numb 0);\n",
    "       While (C (Less, Numb 0, Id \"inp\"),\n",
    "        [Assign (\"res\", App (\"plus\", [Id \"res\"; Id \"inp\"]));\n",
    "         Assign (\"inp\", App (\"minus\", [Id \"inp\"; Numb 1]))])],\n",
    "      Some \"res\");\n",
    "     M (\"main\", [], [\"inp\"; \"res\"],\n",
    "      [Read \"inp\"; Assign (\"res\", App (\"sum\", [Id \"inp\"])); Write (Id \"res\")],\n",
    "      None)];;\n",
    "\n",
    "print_code (compile_program parsed_basic_function)"
   ]
  },
  {
   "cell_type": "code",
   "execution_count": 39,
   "id": "1809ee69",
   "metadata": {},
   "outputs": [
    {
     "data": {
      "text/plain": [
       "val parsed_nested : program =\n",
       "  P\n",
       "   [M (\"sum\", [\"inp\"], [\"tmp\"; \"res\"],\n",
       "     [Ite (C (Eq, Id \"inp\", Numb 0), [Assign (\"res\", Id \"inp\")],\n",
       "       [Assign (\"tmp\", App (\"sum\", [App (\"minus\", [Id \"inp\"; Numb 1])]));\n",
       "        Assign (\"res\", App (\"plus\", [Id \"tmp\"; Id \"inp\"]))])],\n",
       "     Some \"res\");\n",
       "    M (\"main\", [], [\"inp\"; \"res\"],\n",
       "     [Read \"inp\"; Assign (\"res\", App (\"sum\", [Id \"inp\"])); Write (Id \"res\")],\n",
       "     None)]\n"
      ]
     },
     "execution_count": 39,
     "metadata": {},
     "output_type": "execute_result"
    },
    {
     "name": "stdout",
     "output_type": "stream",
     "text": [
      ".global _start\n",
      ".set noreorder\n",
      ".data\n",
      "sinp:\n",
      ".asciiz \"INPUT>\"\n",
      ".text\n",
      "sum:\n",
      "move $t8, $a0\n",
      "li $t9, 0\n",
      "bne $t8, $t9, IFFALSE3\n",
      "move $t1, $a0\n",
      "j IFEND3\n",
      "IFFALSE3:\n",
      "addiu $sp, $sp, -4\n",
      "sw $ra, 0($sp)\n",
      "# Start pushing stack frame\n",
      "addiu $sp, $sp, -4\n",
      "sw $ra, 0($sp)\n",
      "addiu $sp, $sp, -4\n",
      "sw $t0, 0($sp)\n",
      "addiu $sp, $sp, -4\n",
      "sw $t1, 0($sp)\n",
      "addiu $sp, $sp, -4\n",
      "sw $a0, 0($sp)\n",
      "# End pushing stack frame\n",
      "move $t8, $a0\n",
      "addiu $sp, $sp, -4\n",
      "sw $t8, 0($sp)\n",
      "li $t9, 1\n",
      "lw $t8, 0($sp)\n",
      "addiu $sp, $sp, 4\n",
      "sub $a0, $t8, $t9\n",
      "jal sum\n",
      "# Start popping stack frame\n",
      "lw $a0, 0($sp)\n",
      "addiu $sp, $sp, 4\n",
      "lw $t1, 0($sp)\n",
      "addiu $sp, $sp, 4\n",
      "lw $t0, 0($sp)\n",
      "addiu $sp, $sp, 4\n",
      "lw $ra, 0($sp)\n",
      "addiu $sp, $sp, 4\n",
      "# End popping stack frame\n",
      "lw $ra, 0($sp)\n",
      "addiu $sp, $sp, 4\n",
      "move $t0, $v0\n",
      "move $t8, $t0\n",
      "addiu $sp, $sp, -4\n",
      "sw $t8, 0($sp)\n",
      "move $t9, $a0\n",
      "lw $t8, 0($sp)\n",
      "addiu $sp, $sp, 4\n",
      "add $t1, $t8, $t9\n",
      "IFEND3:\n",
      "move $v0, $t1\n",
      "jr $ra\n",
      "_start:\n",
      "li $v0, 4\n",
      "la $a0, sinp\n",
      "syscall\n",
      "li $v0, 5\n",
      "syscall\n",
      "move $s0, $v0\n",
      "addiu $sp, $sp, -4\n",
      "sw $ra, 0($sp)\n",
      "# Start pushing stack frame\n",
      "addiu $sp, $sp, -4\n",
      "sw $ra, 0($sp)\n",
      "addiu $sp, $sp, -4\n",
      "sw $s1, 0($sp)\n",
      "addiu $sp, $sp, -4\n",
      "sw $s0, 0($sp)\n",
      "# End pushing stack frame\n",
      "move $a0, $s0\n",
      "jal sum\n",
      "# Start popping stack frame\n",
      "lw $s0, 0($sp)\n",
      "addiu $sp, $sp, 4\n",
      "lw $s1, 0($sp)\n",
      "addiu $sp, $sp, 4\n",
      "lw $ra, 0($sp)\n",
      "addiu $sp, $sp, 4\n",
      "# End popping stack frame\n",
      "lw $ra, 0($sp)\n",
      "addiu $sp, $sp, 4\n",
      "move $s1, $v0\n",
      "li $v0, 1\n",
      "move $a0, $s1\n",
      "syscall\n"
     ]
    },
    {
     "data": {
      "text/plain": [
       "- : unit = ()\n"
      ]
     },
     "execution_count": 39,
     "metadata": {},
     "output_type": "execute_result"
    }
   ],
   "source": [
    "let parsed_nested = \n",
    "P\n",
    "    [M (\"sum\", [\"inp\"], [\"tmp\"; \"res\"],\n",
    "      [Ite (C (Eq, Id \"inp\", Numb 0), [Assign (\"res\", Id \"inp\")],\n",
    "        [Assign (\"tmp\", App (\"sum\", [App (\"minus\", [Id \"inp\"; Numb 1])]));\n",
    "         Assign (\"res\", App (\"plus\", [Id \"tmp\"; Id \"inp\"]))])],\n",
    "      Some \"res\");\n",
    "     M (\"main\", [], [\"inp\"; \"res\"],\n",
    "      [Read \"inp\"; Assign (\"res\", App (\"sum\", [Id \"inp\"])); Write (Id \"res\")],\n",
    "      None)];;\n",
    "\n",
    "print_code (compile_program parsed_nested)"
   ]
  },
  {
   "cell_type": "markdown",
   "id": "665c61be",
   "metadata": {},
   "source": [
    "## Appendix: Examples of FUNC code & generated MIPS code"
   ]
  },
  {
   "cell_type": "markdown",
   "id": "3e078e97",
   "metadata": {},
   "source": [
    "### Basic Solution \n",
    "\n",
    "The following code should be supported in the basic solution:\n",
    "```\n",
    "method main() vars inp, res\n",
    "begin\n",
    "    read inp;\n",
    "    res:=0;\n",
    "    while less(0,inp)\n",
    "    begin\n",
    "        res := plus(res,inp);\n",
    "        inp := minus(inp,1); ",
    "\n",
    "    endwhile;\n",
    "    write res;\n",
    "endmethod;\n",
    "```\n",
    "\n",
    "The following MIPS code is a possible solution: \n",
    "\n",
    "```\n",
    ".global _start\n",
    ".set noreorder\n",
    ".data\n",
    "sinp:\n",
    ".asciiz \"INPUT>\"  \n",
    ".text\n",
    "_start:\n",
    "li $v0, 4\n",
    "addiu $sp, $sp, -4\n",
    "sw $a0, 0($sp)\n",
    "la $a0, sinp\n",
    "syscall\n",
    "li $v0, 5\n",
    "syscall\n",
    "move $s0, $v0\n",
    "lw $a0, 0($sp)\n",
    "addiu $sp, $sp, 4\n",
    "li $s1, 0\n",
    "WLOOP4:\n",
    "li $t8, 0\n",
    "addiu $sp, $sp, -4\n",
    "sw $t8, 0($sp)\n",
    "move $t9, $s0\n",
    "lw $t8, 0($sp)\n",
    "addiu $sp, $sp, 4\n",
    "bge $t8, $t9, WEND4\n",
    "move $t8, $s1\n",
    "addiu $sp, $sp, -4\n",
    "sw $t8, 0($sp)\n",
    "move $t9, $s0\n",
    "lw $t8, 0($sp)\n",
    "addiu $sp, $sp, 4\n",
    "add $s1, $t8, $t9\n",
    "move $t8, $s0\n",
    "addiu $sp, $sp, -4\n",
    "sw $t8, 0($sp)\n",
    "li $t9, 1\n",
    "lw $t8, 0($sp)\n",
    "addiu $sp, $sp, 4\n",
    "sub $s0, $t8, $t9\n",
    "j WLOOP4\n",
    "WEND4:\n",
    "li $v0, 1\n",
    "addiu $sp, $sp, -4\n",
    "sw $a0, 0($sp)\n",
    "move $a0, $s1\n",
    "syscall\n",
    "lw $a0, 0($sp)\n",
    "addiu $sp, $sp, 4\n",
    "li $v0, 10\n",
    "syscall\n",
    "```\n",
    "\n",
    "It should sum up all numbers from 0 to the given number. For example, if it reads ``3`` then it should print ``6`` (computing ``3+2+1``). Note that your solution does not have to be identical as long as the program produces the same answer and satisfies the specification in this document. "
   ]
  },
  {
   "cell_type": "markdown",
   "id": "82889881",
   "metadata": {},
   "source": [
    "## Basic Function Calls\n",
    "\n",
    "The following program illustrates an example that should work with basic function calls. It uses a computation that sums up the result in a separate function ``sum``: \n",
    "\n",
    "```\n",
    "method sum(inp) vars res\n",
    "    begin\n",
    "    res:=0;\n",
    "    while less(0,inp)\n",
    "    begin\n",
    "        res := plus(res,inp);\n",
    "        inp := minus(inp,1);\n",
    "    endwhile;\n",
    "    return res;\n",
    "endmethod;\n",
    "\n",
    "method main() vars inp,res\n",
    "    begin\n",
    "    read inp;\n",
    "    res := sum(inp);\n",
    "    write res;\n",
    "endmethod;\n",
    "```\n",
    "\n",
    "The following MIPS code is a correct generation: \n",
    "\n",
    "```\n",
    ".global _start\n",
    ".set noreorder\n",
    ".data\n",
    "sinp:\n",
    ".asciiz \"INPUT>\"  \n",
    ".text\n",
    "# Subroutine for sum. The environment has to know that inp is $a0.\n",
    "sum:\n",
    "\n",
    "# res := 0\n",
    "li $t0, 0\n",
    "\n",
    "# start of while condition\n",
    "WLOOP5:\n",
    "li $t8, 0\n",
    "addiu $sp, $sp, -4\n",
    "sw $t8, 0($sp)\n",
    "# $a0 corresponds to inp.\n",
    "move $t9, $a0\n",
    "lw $t8, 0($sp)\n",
    "addiu $sp, $sp, 4\n",
    "bge $t8, $t9, WEND5\n",
    "\n",
    "# Start of while body.\n",
    "move $t8, $t0\n",
    "addiu $sp, $sp, -4\n",
    "sw $t8, 0($sp)\n",
    "move $t9, $a0\n",
    "lw $t8, 0($sp)\n",
    "addiu $sp, $sp, 4\n",
    "add $t0, $t8, $t9\n",
    "move $t8, $a0\n",
    "addiu $sp, $sp, -4\n",
    "sw $t8, 0($sp)\n",
    "li $t9, 1\n",
    "lw $t8, 0($sp)\n",
    "addiu $sp, $sp, 4\n",
    "sub $a0, $t8, $t9\n",
    "j WLOOP5\n",
    "WEND5:\n",
    "\n",
    "# After while body: Move result in $v0 and jump to the return address.\n",
    "move $v0, $t0\n",
    "jr $ra\n",
    "\n",
    "# Code for main function, jumping here because of .global _start.\n",
    "_start:\n",
    "\n",
    "# read inp, where inp is in $s0 as it's the first variable in the main function.\n",
    "li $v0, 4\n",
    "la $a0, sinp\n",
    "syscall\n",
    "li $v0, 5\n",
    "syscall\n",
    "move $s0, $v0\n",
    "\n",
    "# res := sum(inp) - loading argument into $a0, and then jump to subroutine sum. At the end, move the result into the register for res, i.e. $s1.\n",
    "move $a0, $s0\n",
    "jal sum\n",
    "move $s1, $v0\n",
    "\n",
    "# write res;\n",
    "li $v0, 1\n",
    "move $a0, $s1\n",
    "syscall\n",
    "\n",
    "# end MIPS program\n",
    "li $v0, 10\n",
    "syscall\n",
    "```\n",
    "\n",
    "Your solution does not have to be identical as long as the program produces the same answer and satisfies the specification in this document. \n"
   ]
  },
  {
   "cell_type": "markdown",
   "id": "ea25516f",
   "metadata": {},
   "source": [
    "## Nested/Recursive Calls\n",
    "\n",
    "The following program illustrates support for nested and function calls. It does the same as the previous one, but computes the result using recursion:\n",
    "\n",
    "```\n",
    "method sum(inp) vars tmp, res\n",
    "begin\n",
    "    if eq(inp,0) then\n",
    "        res := inp;\n",
    "    else\n",
    "        tmp := sum(minus(inp,1));\n",
    "        res := plus(tmp,inp);\n",
    "    endif;\n",
    "    return res;\n",
    "endmethod;\n",
    "\n",
    "method main() vars inp,res\n",
    "begin\n",
    "    read inp;\n",
    "    res := sum(inp);\n",
    "    write res;\n",
    "endmethod;\n",
    "```\n",
    "\n",
    "The following slightly annotated MIPS code is a possible solution: \n",
    "```\n",
    ".global _start\n",
    ".set noreorder\n",
    ".data\n",
    "sinp:\n",
    ".asciiz \"INPUT>\"  \n",
    ".text\n",
    "\n",
    "# Subroutine for sum; the environment has to know that inp is in register $a0.\n",
    "sum:\n",
    "\n",
    "# eq (inp, 0)\n",
    "move $t8, $a0\n",
    "addiu $sp, $sp, -4\n",
    "sw $t8, 0($sp)\n",
    "li $t9, 0\n",
    "lw $t8, 0($sp)\n",
    "addiu $sp, $sp, 4\n",
    "bne $t8, $t9, IFFALSE3\n",
    "\n",
    "# res := inp, where $res is in $t1 (second variable of non-main function) and $inp is in $a0 (first argument)\n",
    "move $t1, $a0\n",
    "j IFEND3\n",
    "\n",
    "# Else case.\n",
    "IFFALSE3:\n",
    "# Start pushing stack frame as we have to call sum (minus (inp, 1)); pushing the return address, all caller-save registers, all arguments\n",
    "addiu $sp, $sp, -4\n",
    "sw $ra, 0($sp)\n",
    "addiu $sp, $sp, -4\n",
    "sw $t0, 0($sp)\n",
    "addiu $sp, $sp, -4\n",
    "sw $t1, 0($sp)\n",
    "addiu $sp, $sp, -4\n",
    "sw $a0, 0($sp)\n",
    "# End pushing stack frame\n",
    "\n",
    "# moving min (inp, 1) into $a0\n",
    "move $t8, $a0\n",
    "addiu $sp, $sp, -4\n",
    "sw $t8, 0($sp)\n",
    "li $t9, 1\n",
    "lw $t8, 0($sp)\n",
    "addiu $sp, $sp, 4\n",
    "sub $a0, $t8, $t9\n",
    "\n",
    "# jumping to subroutine\n",
    "jal sum\n",
    "\n",
    "# Start popping stack frame\n",
    "lw $a0, 0($sp)\n",
    "addiu $sp, $sp, 4\n",
    "lw $t1, 0($sp)\n",
    "addiu $sp, $sp, 4\n",
    "lw $t0, 0($sp)\n",
    "addiu $sp, $sp, 4\n",
    "lw $ra, 0($sp)\n",
    "addiu $sp, $sp, 4\n",
    "# End popping stack frame\n",
    "\n",
    "# Moving result into $tmp, i.e. $t0\n",
    "move $t0, $v0\n",
    "\n",
    "# res := plus(tmp,inp)\n",
    "move $t8, $t0\n",
    "addiu $sp, $sp, -4\n",
    "sw $t8, 0($sp)\n",
    "move $t9, $a0\n",
    "lw $t8, 0($sp)\n",
    "addiu $sp, $sp, 4\n",
    "add $t1, $t8, $t9\n",
    "\n",
    "# After if part\n",
    "IFEND3:\n",
    "\n",
    "# return res; - so moving result ($t1) into result register $v0.\n",
    "move $v0, $t1\n",
    "# Jump back to return address.\n",
    "jr $ra\n",
    "\n",
    "\n",
    "# Code for main function, jumping here because of .global _start.\n",
    "_start:\n",
    "\n",
    "# read inp;\n",
    "li $v0, 4\n",
    "# pushing $a0 as it might be an argument\n",
    "addiu $sp, $sp, -4\n",
    "sw $a0, 0($sp)\n",
    "la $a0, sinp\n",
    "syscall\n",
    "li $v0, 5\n",
    "syscall\n",
    "move $s0, $v0\n",
    "# popping $a0\n",
    "lw $a0, 0($sp)\n",
    "addiu $sp, $sp, 4\n",
    "\n",
    "# res := sum(inp);\n",
    "\n",
    "# Start pushing stack frame\n",
    "addiu $sp, $sp, -4\n",
    "sw $ra, 0($sp)\n",
    "# End pushing stack frame\n",
    "\n",
    "# move inp into argument slot.\n",
    "move $a0, $s0\n",
    "\n",
    "jal sum\n",
    "\n",
    "# Start popping stack frame\n",
    "lw $ra, 0($sp)\n",
    "addiu $sp, $sp, 4\n",
    "# End popping stack frame\n",
    "\n",
    "# Moving result into res.\n",
    "move $s1, $v0\n",
    "\n",
    "# write res;\n",
    "li $v0, 1\n",
    "# pushing $a0 as it might be an argument\n",
    "addiu $sp, $sp, -4\n",
    "sw $a0, 0($sp)\n",
    "move $a0, $s1\n",
    "syscall\n",
    "# popping $a0\n",
    "lw $a0, 0($sp)\n",
    "addiu $sp, $sp, 4\n",
    "\n",
    "# End MIPS program\n",
    "li $v0, 10\n",
    "syscall\n",
    "```\n",
    "\n",
    "Again, your solution does not have to be identical as long as the program produces the same answer and satisfies the specification in this document. "
   ]
  },
  {
   "cell_type": "code",
   "execution_count": null,
   "id": "880c9e5c",
   "metadata": {},
   "outputs": [],
   "source": []
  }
 ],
 "metadata": {
  "kernelspec": {
   "display_name": "OCaml 4.13",
   "language": "OCaml",
   "name": "ocaml-jupyter-4.13"
  },
  "language_info": {
   "codemirror_mode": "text/x-ocaml",
   "file_extension": ".ml",
   "mimetype": "text/x-ocaml",
   "name": "OCaml",
   "nbconverter_exporter": null,
   "pygments_lexer": "OCaml",
   "version": "4.13.1"
  }
 },
 "nbformat": 4,
 "nbformat_minor": 5
}
