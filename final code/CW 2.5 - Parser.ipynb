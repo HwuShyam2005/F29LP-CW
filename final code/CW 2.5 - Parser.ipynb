{
 "cells": [
  {
   "cell_type": "markdown",
   "id": "64a4419e",
   "metadata": {},
   "source": [
    "# CW2.5:  Parser for FUNC\n",
    "\n",
    "In this week's assignment, you'll write a parser.\n",
    "\n",
    "Please submit a .zip file containing this notebook and the file ``CW/func.mll`` on Canvas.\n",
    "\n",
    "Please ensure that you do not change the name or signature of the functions ``parse_exp``, ``parse_program``, etc. "
   ]
  },
  {
   "cell_type": "markdown",
   "id": "4af2b3e2",
   "metadata": {},
   "source": [
    "##  Parsing "
   ]
  },
  {
   "cell_type": "markdown",
   "id": "44cbc00a",
   "metadata": {},
   "source": [
    "Below you can see an abstract grammar for the language you've seen before."
   ]
  },
  {
   "cell_type": "code",
   "execution_count": 23,
   "id": "21b8c168",
   "metadata": {},
   "outputs": [
    {
     "data": {
      "text/plain": [
       "type exp = Numb of int | Id of string | App of string * exp list\n"
      ]
     },
     "execution_count": 23,
     "metadata": {},
     "output_type": "execute_result"
    },
    {
     "data": {
      "text/plain": [
       "type bop = Less | LessEq | Eq | NEq\n"
      ]
     },
     "execution_count": 23,
     "metadata": {},
     "output_type": "execute_result"
    },
    {
     "data": {
      "text/plain": [
       "type cond = C of bop * exp * exp\n"
      ]
     },
     "execution_count": 23,
     "metadata": {},
     "output_type": "execute_result"
    },
    {
     "data": {
      "text/plain": [
       "type statement =\n",
       "    Assign of string * exp\n",
       "  | Read of string\n",
       "  | Write of exp\n",
       "  | If of cond * statement list\n",
       "  | Ite of cond * statement list * statement list\n",
       "  | While of cond * statement list\n"
      ]
     },
     "execution_count": 23,
     "metadata": {},
     "output_type": "execute_result"
    },
    {
     "data": {
      "text/plain": [
       "type mmethod =\n",
       "    M of string * string list * string list * statement list * string option\n"
      ]
     },
     "execution_count": 23,
     "metadata": {},
     "output_type": "execute_result"
    },
    {
     "data": {
      "text/plain": [
       "type program = P of mmethod list\n"
      ]
     },
     "execution_count": 23,
     "metadata": {},
     "output_type": "execute_result"
    }
   ],
   "source": [
    "type exp = Numb of int | Id of string | App of string * exp list\n",
    "\n",
    "type bop = Less | LessEq | Eq | NEq \n",
    "type cond = C of bop * exp * exp\n",
    "\n",
    "type statement =\n",
    "  Assign of string * exp\n",
    "| Read of string \n",
    "| Write of exp \n",
    "| If of cond * statement list\n",
    "| Ite of cond * statement list * statement list\n",
    "| While of cond * statement list\n",
    "\n",
    "type mmethod = M of string (* name of function *)\n",
    "                * string list (* arguments *)\n",
    "                * string list (* declarations *) \n",
    "                * statement list (* function body *)\n",
    "                * string option (* possible return value value *)\n",
    "\n",
    "type program = P of mmethod list"
   ]
  },
  {
   "cell_type": "markdown",
   "id": "df7665a4",
   "metadata": {},
   "source": [
    "Write a recursive-descent parser for ``FUNC``.\n",
    "Your parser should contain at least: \n",
    "- a function ``parse_exp : token list -> exp * token list``\n",
    "- a function ``parse_cond : token list -> cond * token list``\n",
    "- a function ``parse_statement : token list -> statement * token list``\n",
    "- a function ``parse_program : program -> statement * token list``\n",
    "\n",
    "You will require more functions. \n",
    "You can get partial points by providing e.g. only ``parse_exp``. \n",
    "\n",
    "**Hints:** \n",
    "- Your parser does **not** have to ensure that variables, functions, the ``main`` function etc. exists or functions are applied to the right number of arguments.\n",
    "- You will want to test your program step-by-step, e.g. test that ``parse_exp`` runs as expected before writing ``parse_cond``. \n",
    "- To write the parser, you'll require a definition of tokens. If you have done CW 2.4, you can use your definition of tokens from before (it will be automatically included by the definition below). If you haven't done CW 2.4/don't plan to do CW 2.4, please write Kathrin a brief e-mail (or ask during labs/the lecture): She will provide you with the definition of a data type of tokens."
   ]
  },
  {
   "cell_type": "code",
   "execution_count": 25,
   "id": "dab9c356",
   "metadata": {},
   "outputs": [],
   "source": [
    "(* Code for importing the part of lexing. *)\n",
    "#require \"jupyter.notebook\" ;;\n",
    "open Jupyter_notebook ;;"
   ]
  },
  {
   "cell_type": "code",
   "execution_count": 8,
   "id": "846eb563",
   "metadata": {},
   "outputs": [
    {
     "name": "stdout",
     "output_type": "stream",
     "text": [
      "70 states, 4692 transitions, table size 19188 bytes\n"
     ]
    },
    {
     "data": {
      "text/plain": [
       "- : Jupyter_notebook.Process.t =\n",
       "{Jupyter_notebook.Process.exit_status = Unix.WEXITED 0; stdout = None;\n",
       " stderr = None}\n"
      ]
     },
     "execution_count": 8,
     "metadata": {},
     "output_type": "execute_result"
    },
    {
     "data": {
      "text/plain": [
       "- : Jupyter_notebook.Process.t =\n",
       "{Jupyter_notebook.Process.exit_status = Unix.WEXITED 0; stdout = None;\n",
       " stderr = None}\n"
      ]
     },
     "execution_count": 8,
     "metadata": {},
     "output_type": "execute_result"
    },
    {
     "data": {
      "text/plain": [
       "val stream_to_list : Lexing.lexbuf -> Func.token List.t = <fun>\n"
      ]
     },
     "execution_count": 8,
     "metadata": {},
     "output_type": "execute_result"
    }
   ],
   "source": [
    "(* Code for importing your definition of a lexer.\n",
    "If not implemented, you want to insert here the definition of tokens, \n",
    "and instead of the provided tests, test your parser with lists of tokens. *)\n",
    "\n",
    "(* Run the lexer generator *)\n",
    "Process.sh \"ocamllex func.mll\";;\n",
    "\n",
    "(* Compile and load the file produced by the lexer *)\n",
    "Process.sh \"ocamlc -c func.ml\";;\n",
    "#load \"func.cmo\";;\n",
    "\n",
    "(* Convert the buffer into a list for further processing. *)\n",
    "let rec stream_to_list buffer = \n",
    "    match Func.token buffer with \n",
    "    | EOF -> []\n",
    "    | x -> x :: stream_to_list buffer"
   ]
  },
  {
   "cell_type": "code",
   "execution_count": 4,
   "id": "2454acd9",
   "metadata": {},
   "outputs": [
    {
     "data": {
      "text/plain": [
       "exception SyntaxError of string\n"
      ]
     },
     "execution_count": 4,
     "metadata": {},
     "output_type": "execute_result"
    },
    {
     "data": {
      "text/plain": [
       "val print_token : Func.token -> string = <fun>\n"
      ]
     },
     "execution_count": 4,
     "metadata": {},
     "output_type": "execute_result"
    },
    {
     "data": {
      "text/plain": [
       "val print_list : Func.token list -> string = <fun>\n"
      ]
     },
     "execution_count": 4,
     "metadata": {},
     "output_type": "execute_result"
    }
   ],
   "source": [
    "exception SyntaxError of string\n",
    "open List\n",
    "\n",
    "(* Optional:\n",
    "   You might want to write a function to print tokens. \n",
    "   Comment out if not needed.  *) \n",
    "      \n",
    "let print_token (t : Func.token) : string = match t with \n",
    " | _ -> \"TO IMPLEMENT\" \n",
    "\n",
    "let rec print_list (s :  Func.token list) = match s with \n",
    "  | [] -> \"\"\n",
    "  | x :: xs -> String.cat (print_token x) (String.cat \" \" (print_list xs))"
   ]
  },
  {
   "cell_type": "code",
   "execution_count": 5,
   "id": "058d8bfa",
   "metadata": {},
   "outputs": [],
   "source": [
    "open Func"
   ]
  },
  {
   "cell_type": "code",
   "execution_count": 6,
   "id": "fb9da115",
   "metadata": {},
   "outputs": [
    {
     "data": {
      "text/plain": [
       "val parse_id : Func.token List.t -> string * Func.token list = <fun>\n"
      ]
     },
     "execution_count": 6,
     "metadata": {},
     "output_type": "execute_result"
    },
    {
     "data": {
      "text/plain": [
       "val parse_token : Func.token -> Func.token list -> Func.token list = <fun>\n"
      ]
     },
     "execution_count": 6,
     "metadata": {},
     "output_type": "execute_result"
    }
   ],
   "source": [
    "(* Token parsing function, ensuring identifiers are handled correctly *)\n",
    "let rec parse_id (ts: Func.token list) = match ts with\n",
    "  | ID x :: ts' -> (x, ts')  (* Extract identifier and move to next token *)\n",
    "  | _ -> raise (SyntaxError \"Not an identifier.\")\n",
    "  \n",
    "let parse_token (x : token) (xs : token list) = match xs with \n",
    " | y :: ys -> if (x == y) then ys \n",
    "                 else raise (SyntaxError (String.cat \"Token expected: \"(String.cat (print_token x) (print_list xs) )))\n",
    " | _ -> raise (SyntaxError (String.cat \"Token expected: \"(String.cat (print_token x) (print_list xs) ))) "
   ]
  },
  {
   "cell_type": "code",
   "execution_count": 36,
   "id": "c0c20c16",
   "metadata": {
    "scrolled": true
   },
   "outputs": [
    {
     "data": {
      "text/plain": [
       "val parse_exp : Func.token list -> exp * Func.token List.t = <fun>\n",
       "val parse_exps : Func.token list -> exp List.t * Func.token List.t = <fun>\n"
      ]
     },
     "execution_count": 36,
     "metadata": {},
     "output_type": "execute_result"
    }
   ],
   "source": [
    "let rec parse_exp (ts : token list) : exp * token list = match ts with\n",
    "    | ID x :: ts' -> ( match ts' with\n",
    "                       | LEFTPARANTHESIS :: ts'' -> ( match ts'' with\n",
    "                                               | RIGHTPARANTHESIS :: xs' -> (App(x,[]),xs')\n",
    "                                               |_ -> (let (e1,ts''') = parse_exps ts'' in\n",
    "                                                        match ts''' with\n",
    "                                                            |RIGHTPARANTHESIS :: ts'''' -> (App(x,e1),ts'''')\n",
    "                                                            |_->raise (SyntaxError \"RIGHTPARANTHESIS Expected\")\n",
    "                                                      )\n",
    "                                          )\n",
    "                       | _ -> (Id(x),ts')\n",
    "                    )\n",
    "    | INT x :: ts' -> (Numb x, ts')\n",
    "    | _ -> raise (SyntaxError \"ID or Int Expected\")\n",
    "    \n",
    "    \n",
    "(* Helper funciton for pare_exp *)\n",
    "and parse_exps (ts: token list) = let (e1,ts') = parse_exp ts in \n",
    "            match ts' with\n",
    "                    | COMMA :: ts'' -> (let (e2,ts''') = parse_exps ts'' in\n",
    "                               (e1::e2,ts'''))                          \n",
    "                    | _ -> ([e1],ts') "
   ]
  },
  {
   "cell_type": "code",
   "execution_count": 11,
   "id": "6e8aff53",
   "metadata": {},
   "outputs": [
    {
     "data": {
      "text/plain": [
       "val parse_bop : Func.token list -> bop * Func.token list = <fun>\n"
      ]
     },
     "execution_count": 11,
     "metadata": {},
     "output_type": "execute_result"
    },
    {
     "data": {
      "text/plain": [
       "val parse_cond : Func.token list -> cond * Func.token list = <fun>\n"
      ]
     },
     "execution_count": 11,
     "metadata": {},
     "output_type": "execute_result"
    }
   ],
   "source": [
    "(* Helper functions for conditional operators *)\n",
    "let parse_bop (ts : token list) = match ts with \n",
    "  | LESSEQ :: ts' -> (LessEq, ts')\n",
    "  | LESS :: ts' -> (Less, ts')\n",
    "  | EQ :: ts' -> (Eq, ts')\n",
    "  | NEQ :: ts' -> (NEq, ts')\n",
    "  | _ -> raise (SyntaxError \"Expected LESSEQ, LESS, NEQ, or EQ.\")\n",
    "\n",
    "let parse_cond (ts : token list) : cond * token list =\n",
    "  let (e1, ts') = parse_bop ts in\n",
    "  match ts' with\n",
    "  | LEFTPARANTHESIS :: ts'' ->\n",
    "      (match ts'' with\n",
    "       | RIGHTPARANTHESIS :: xs' -> (C (e1, Id \"\", Id \"\"), xs')\n",
    "       | _ ->\n",
    "           let (e2, ts''') = parse_exp ts'' in\n",
    "           let xs = parse_token COMMA ts''' in\n",
    "           let (e3, ys') = parse_exp xs in\n",
    "           match ys' with\n",
    "           | RIGHTPARANTHESIS :: ys'' -> (C (e1, e2, e3), ys'')\n",
    "           | _ -> raise (SyntaxError \"RIGHTPARANTHESIS Expected\"))\n",
    "  | _ -> (C (e1, Id \"\", Id \"\"), ts')\n"
   ]
  },
  {
   "cell_type": "code",
   "execution_count": 18,
   "id": "2f72bd4d",
   "metadata": {},
   "outputs": [
    {
     "data": {
      "text/plain": [
       "val parse_statement : Func.token list -> statement * Func.token list = <fun>\n",
       "val parse_assign : Func.token list -> statement * Func.token List.t = <fun>\n",
       "val parse_if : Func.token list -> statement * Func.token list = <fun>\n",
       "val parse_rw : Func.token list -> statement * Func.token List.t = <fun>\n",
       "val parse_while : Func.token list -> statement * Func.token list = <fun>\n",
       "val parse_statements : Func.token list -> statement list * Func.token list =\n",
       "  <fun>\n"
      ]
     },
     "execution_count": 18,
     "metadata": {},
     "output_type": "execute_result"
    }
   ],
   "source": [
    "let rec parse_statement (ts : token list) : statement * token list =\n",
    "  match ts with\n",
    "  | ID x :: ts' -> parse_assign ts\n",
    "  | IF :: ts' -> parse_if ts\n",
    "  | READ :: ts' | WRITE :: ts' -> parse_rw ts\n",
    "  | WHILE :: ts' -> parse_while ts\n",
    "  | _ -> raise (SyntaxError \"Statement Expected\")\n",
    "\n",
    "and parse_assign (ts : token list) =\n",
    "  match ts with\n",
    "  | ID x :: ASSIGN :: ts' ->\n",
    "      let (e1, ts'') = parse_exp ts' in\n",
    "      (Assign (x, e1), ts'')\n",
    "  | _ -> raise (SyntaxError \"ID Expected\")\n",
    "\n",
    "and parse_if (ts : token list) =\n",
    "  let ts' = parse_token IF ts in\n",
    "  let (e1, ts'') = parse_cond ts' in\n",
    "  let ts''' = parse_token THEN ts'' in\n",
    "  let (e2, xs') = parse_statements ts''' in\n",
    "  match xs' with\n",
    "  | ELSE :: xs'' ->\n",
    "      let (e3, ys) = parse_statements xs'' in\n",
    "      (match ys with\n",
    "       | ENDIF :: ys' -> (Ite (e1, e2, e3), ys')  (* Remove unnecessary list wrapping *)\n",
    "       | _ -> raise (SyntaxError \"ENDIF Expected\"))\n",
    "  | ENDIF :: xs'' -> (If (e1, e2), xs'')  (* Remove unnecessary list wrapping *)\n",
    "  | _ -> raise (SyntaxError \"ELSE or ENDIF Expected\")\n",
    "\n",
    "and parse_rw (ts : token list) =\n",
    "  match ts with\n",
    "  | READ :: ID x :: ts' -> (Read x, ts')\n",
    "  | WRITE :: ts' ->\n",
    "      let (e1, xs) = parse_exp ts' in\n",
    "      (Write e1, xs)\n",
    "  | _ -> raise (SyntaxError \"READ or WRITE Expected\")\n",
    "\n",
    "and parse_while (ts : token list) =\n",
    "  let ts' = parse_token WHILE ts in\n",
    "  let (e1, ts'') = parse_cond ts' in\n",
    "  let xs = parse_token BEGINWHILE ts'' in\n",
    "  let (e2, xs') = parse_statements xs in\n",
    "  let xs'' = parse_token ENDWHILE xs' in\n",
    "  (While (e1, e2), xs'')\n",
    "\n",
    "and parse_statements (ts : token list) : statement list * token list =\n",
    "  let (e1, ts') = parse_statement ts in\n",
    "  match ts' with\n",
    "  | SEMICOLON :: ts'' ->\n",
    "      let (e2, ys) = parse_statements ts'' in\n",
    "      (e1 :: e2, ys)  (* Replaced Seq with list-based approach *)\n",
    "  | _ -> ([e1], ts')\n"
   ]
  },
  {
   "cell_type": "code",
   "execution_count": 21,
   "id": "00f14d36",
   "metadata": {},
   "outputs": [
    {
     "data": {
      "text/plain": [
       "val parse_args : Func.token list -> string List.t * Func.token list = <fun>\n"
      ]
     },
     "execution_count": 21,
     "metadata": {},
     "output_type": "execute_result"
    },
    {
     "data": {
      "text/plain": [
       "val parse_program : Func.token list -> string List.t * Func.token list =\n",
       "  <fun>\n"
      ]
     },
     "execution_count": 21,
     "metadata": {},
     "output_type": "execute_result"
    }
   ],
   "source": [
    "let rec parse_args (ts: Func.token list) =\n",
    "  let (x, ts') = parse_id ts in\n",
    "  match ts' with\n",
    "  | COMMA :: xs -> \n",
    "      let (y, xs') = parse_args xs in \n",
    "      (x :: y, xs')  (* Accumulate arguments in a list *)\n",
    "  | _ -> ([x], ts')  (* Return single argument if no comma found *)\n",
    " \n",
    "let rec parse_program (ts: Func.token list) = \n",
    "  let (ts', rest) = parse_id ts in  (* First identifier in program *)\n",
    "  match rest with\n",
    "  | COMMA :: xs -> \n",
    "      let (y, xs') = parse_args xs in\n",
    "      (ts' :: y, xs')  (* Return a list of method arguments *)\n",
    "  | _ -> ([ts'], rest)  (* Return single element if no arguments after identifier *)"
   ]
  },
  {
   "cell_type": "markdown",
   "id": "860446cd",
   "metadata": {},
   "source": [
    "## Appendix - Example Programs"
   ]
  },
  {
   "cell_type": "code",
   "execution_count": 22,
   "id": "4a6d5feb",
   "metadata": {},
   "outputs": [
    {
     "data": {
      "text/plain": [
       "val ex1 : string =\n",
       "  \"method pow(x, y) vars i, res\\nbegin\\n\\n\\tres := x;\\n\\ti := 1;\\n\\twhile less(i,y)\\n\\tbegin\\n\\t\\tres := times(res,x);\\n\\t\\ti := plus(i,1);\\n        endwhile;\\n\\twrite res;\\n\\treturn res;\\n\\nendmethod;\\n\\nmethod main() vars a, b, x\\nbegin\\n\\n\\ta := 5;\\n\\tb := 2;\\n\\tx := pow(b,a);\\n\\tif eq(x,32)\\n\\t\\t then write 1;\\n\\telse\\n\\t\\twrite 0;\\n\\tendif;\"... (* string length 312; truncated *)\n"
      ]
     },
     "execution_count": 22,
     "metadata": {},
     "output_type": "execute_result"
    },
    {
     "data": {
      "text/plain": [
       "val ex2 : string =\n",
       "  \"method pow(x,y) vars i, res,w\\nbegin\\n\\n\\tres := x(da,da(1,2,m(1,1)),1);\\n\\ti := 2;\\n\\tif eq(x,32) then \\n\\t\\twrite 1;\\n\\t\\tread a;\\n\\telse\\n\\t\\tb := 11;\\n\\tendif;\\n\\twhile less(i,y)\\n\\tbegin\\n\\t\\tres := times(res,x);\\n\\t\\ti := plus(i,1);\\n        endwhile;\\n\\twrite res;\\n\\treturn res;\\n\\nendmethod;\\n\\nmethod main() vars a, b, x\\nbegin\\n\\n\\t\"... (* string length 401; truncated *)\n"
      ]
     },
     "execution_count": 22,
     "metadata": {},
     "output_type": "execute_result"
    },
    {
     "data": {
      "text/plain": [
       "val ex3 : string =\n",
       "  \"method main() vars inp, res\\nbegin\\nread inp;\\nres:=0;\\nwhile less(0,inp)\\nbegin\\nres := plus(res,inp);\\ninp := minus(inp,1);\\nendwhile;\\nwrite res;\\nendmethod;\\n\"\n"
      ]
     },
     "execution_count": 22,
     "metadata": {},
     "output_type": "execute_result"
    },
    {
     "data": {
      "text/plain": [
       "val ex4 : string =\n",
       "  \"method sum(inp) vars res\\nbegin\\nres:=0;\\nwhile less(0,inp)\\nbegin\\nres := plus(res,inp);\\ninp := minus(inp,1);\\nendwhile;\\nreturn res;\\nendmethod;\\n\\nmethod main() vars inp,res\\nbegin\\nread inp;\\nres := sum(inp);\\nwrite res;\\nendmethod;\"\n"
      ]
     },
     "execution_count": 22,
     "metadata": {},
     "output_type": "execute_result"
    },
    {
     "data": {
      "text/plain": [
       "val ex5 : string =\n",
       "  \"method sum(inp) vars tmp\\nbegin\\nif eq(inp,0) then\\nres := inp;\\nelse\\ntmp := sum(minus(inp,1));\\nres := plus(tmp,inp);\\nendif;\\nendmethod;\\n\\nmethod main() vars inp,res\\nbegin\\nread inp;\\nres := sum(inp);\\nwrite res;\\nendmethod;\"\n"
      ]
     },
     "execution_count": 22,
     "metadata": {},
     "output_type": "execute_result"
    },
    {
     "data": {
      "text/plain": [
       "val text_to_ast : string -> string List.t * Func.token list = <fun>\n"
      ]
     },
     "execution_count": 22,
     "metadata": {},
     "output_type": "execute_result"
    },
    {
     "ename": "error",
     "evalue": "runtime_error",
     "output_type": "error",
     "traceback": [
      "\u001b[31mException: SyntaxError \"Not an identifier.\".\nRaised at parse_id in file \"[6]\", line 4, characters 8-48\nCalled from parse_program in file \"[21]\", line 10, characters 20-31\nCalled from unknown location\nCalled from Stdlib__Fun.protect in file \"fun.ml\", line 33, characters 8-15\nRe-raised at Stdlib__Fun.protect in file \"fun.ml\", line 38, characters 6-52\nCalled from Topeval.load_lambda in file \"toplevel/byte/topeval.ml\", line 89, characters 4-150\n\u001b[0m"
     ]
    }
   ],
   "source": [
    "let ex1 = \"method pow(x, y) vars i, res\n",
    "begin\n",
    "\n",
    "\tres := x;\n",
    "\ti := 1;\n",
    "\twhile less(i,y)\n",
    "\tbegin\n",
    "\t\tres := times(res,x);\n",
    "\t\ti := plus(i,1);\n",
    "        endwhile;\n",
    "\twrite res;\n",
    "\treturn res;\n",
    "\n",
    "endmethod;\n",
    "\n",
    "method main() vars a, b, x\n",
    "begin\n",
    "\n",
    "\ta := 5;\n",
    "\tb := 2;\n",
    "\tx := pow(b,a);\n",
    "\tif eq(x,32)\n",
    "\t\t then write 1;\n",
    "\telse\n",
    "\t\twrite 0;\n",
    "\tendif;\n",
    "\n",
    "endmethod;\n",
    "\"    \n",
    "\n",
    "let ex2 = \"method pow(x,y) vars i, res,w\n",
    "begin\n",
    "\n",
    "\tres := x(da,da(1,2,m(1,1)),1);\n",
    "\ti := 2;\n",
    "\tif eq(x,32) then \n",
    "\t\twrite 1;\n",
    "\t\tread a;\n",
    "\telse\n",
    "\t\tb := 11;\n",
    "\tendif;\n",
    "\twhile less(i,y)\n",
    "\tbegin\n",
    "\t\tres := times(res,x);\n",
    "\t\ti := plus(i,1);\n",
    "        endwhile;\n",
    "\twrite res;\n",
    "\treturn res;\n",
    "\n",
    "endmethod;\n",
    "\n",
    "method main() vars a, b, x\n",
    "begin\n",
    "\n",
    "\ta := 5; \n",
    "\tb := 2;\n",
    "\tx := pow(b,a);\n",
    "\tif eq(x,32)\n",
    "\t\t then write 1; \n",
    "\telse \n",
    "\t\twrite 0;\n",
    "\tendif; \n",
    "endmethod;\"\n",
    "\n",
    "let ex3 = \"method main() vars inp, res\n",
    "begin\n",
    "read inp;\n",
    "res:=0;\n",
    "while less(0,inp)\n",
    "begin\n",
    "res := plus(res,inp);\n",
    "inp := minus(inp,1);\n",
    "endwhile;\n",
    "write res;\n",
    "endmethod;\n",
    "\"\n",
    "\n",
    "let ex4 = \"method sum(inp) vars res\n",
    "begin\n",
    "res:=0;\n",
    "while less(0,inp)\n",
    "begin\n",
    "res := plus(res,inp);\n",
    "inp := minus(inp,1);\n",
    "endwhile;\n",
    "return res;\n",
    "endmethod;\n",
    "\n",
    "method main() vars inp,res\n",
    "begin\n",
    "read inp;\n",
    "res := sum(inp);\n",
    "write res;\n",
    "endmethod;\"\n",
    "\n",
    "let ex5 = \"method sum(inp) vars tmp\n",
    "begin\n",
    "if eq(inp,0) then\n",
    "res := inp;\n",
    "else\n",
    "tmp := sum(minus(inp,1));\n",
    "res := plus(tmp,inp);\n",
    "endif;\n",
    "endmethod;\n",
    "\n",
    "method main() vars inp,res\n",
    "begin\n",
    "read inp;\n",
    "res := sum(inp);\n",
    "write res;\n",
    "endmethod;\"\n",
    "\n",
    "let text_to_ast ex = parse_program (stream_to_list (Lexing.from_string ex))\n",
    "\n",
    "(* Compare with what you expect *)\n",
    "let parsed1 = text_to_ast ex1 \n",
    "let parsed2 = text_to_ast ex2\n",
    "let parsed3 = text_to_ast ex3\n",
    "let parsed4 = text_to_ast ex4\n",
    "let parsed5 = text_to_ast ex5"
   ]
  },
  {
   "cell_type": "code",
   "execution_count": null,
   "id": "d8f39b04",
   "metadata": {},
   "outputs": [],
   "source": []
  },
  {
   "cell_type": "code",
   "execution_count": null,
   "id": "8985205c",
   "metadata": {},
   "outputs": [],
   "source": []
  }
 ],
 "metadata": {
  "kernelspec": {
   "display_name": "OCaml 4.13",
   "language": "OCaml",
   "name": "ocaml-jupyter-4.13"
  },
  "language_info": {
   "codemirror_mode": "text/x-ocaml",
   "file_extension": ".ml",
   "mimetype": "text/x-ocaml",
   "name": "OCaml",
   "nbconverter_exporter": null,
   "pygments_lexer": "OCaml",
   "version": "4.13.1"
  }
 },
 "nbformat": 4,
 "nbformat_minor": 5
}
